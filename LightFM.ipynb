{
 "cells": [
  {
   "cell_type": "code",
   "execution_count": 1,
   "id": "13a3ca50",
   "metadata": {
    "ExecuteTime": {
     "end_time": "2023-02-28T10:46:48.491436Z",
     "start_time": "2023-02-28T10:46:47.307064Z"
    }
   },
   "outputs": [],
   "source": [
    "import requests\n",
    "import json\n",
    "import pandas as pd\n",
    "import tqdm\n",
    "import time\n",
    "import numpy as np\n",
    "from scipy import spatial\n",
    "import scipy as sc\n",
    "from scipy.sparse import csr_matrix"
   ]
  },
  {
   "cell_type": "code",
   "execution_count": 2,
   "id": "e6bbc22e",
   "metadata": {
    "ExecuteTime": {
     "end_time": "2023-02-28T10:46:50.617331Z",
     "start_time": "2023-02-28T10:46:50.596012Z"
    }
   },
   "outputs": [
    {
     "name": "stderr",
     "output_type": "stream",
     "text": [
      "/Users/konstantin/opt/anaconda3/lib/python3.9/site-packages/lightfm/_lightfm_fast.py:9: UserWarning: LightFM was compiled without OpenMP support. Only a single thread will be used.\n",
      "  warnings.warn(\n"
     ]
    }
   ],
   "source": [
    "from lightfm import LightFM\n",
    "\n",
    "from lightfm.evaluation import precision_at_k\n",
    "from lightfm.evaluation import recall_at_k\n",
    "from lightfm.evaluation import reciprocal_rank\n",
    "from lightfm.evaluation import auc_score"
   ]
  },
  {
   "cell_type": "code",
   "execution_count": 3,
   "id": "322d0fd9",
   "metadata": {
    "ExecuteTime": {
     "end_time": "2023-02-27T13:30:08.235627Z",
     "start_time": "2023-02-27T13:30:08.221384Z"
    }
   },
   "outputs": [],
   "source": [
    "# from platform import python_version\n",
    "# print(python_version())"
   ]
  },
  {
   "cell_type": "code",
   "execution_count": 3,
   "id": "ea22b453",
   "metadata": {
    "ExecuteTime": {
     "end_time": "2023-02-28T10:46:56.532394Z",
     "start_time": "2023-02-28T10:46:55.694809Z"
    }
   },
   "outputs": [],
   "source": [
    "import matplotlib.pyplot as plt \n",
    "import seaborn as sns           \n",
    "%matplotlib inline"
   ]
  },
  {
   "cell_type": "markdown",
   "id": "d42f6979",
   "metadata": {},
   "source": [
    "Загрузим датасет"
   ]
  },
  {
   "cell_type": "code",
   "execution_count": 4,
   "id": "b027a1b1",
   "metadata": {
    "ExecuteTime": {
     "end_time": "2023-02-28T10:47:31.616533Z",
     "start_time": "2023-02-28T10:47:31.469130Z"
    }
   },
   "outputs": [
    {
     "name": "stdout",
     "output_type": "stream",
     "text": [
      "CPU times: user 108 ms, sys: 16.1 ms, total: 124 ms\n",
      "Wall time: 131 ms\n"
     ]
    },
    {
     "data": {
      "text/html": [
       "<div>\n",
       "<style scoped>\n",
       "    .dataframe tbody tr th:only-of-type {\n",
       "        vertical-align: middle;\n",
       "    }\n",
       "\n",
       "    .dataframe tbody tr th {\n",
       "        vertical-align: top;\n",
       "    }\n",
       "\n",
       "    .dataframe thead th {\n",
       "        text-align: right;\n",
       "    }\n",
       "</style>\n",
       "<table border=\"1\" class=\"dataframe\">\n",
       "  <thead>\n",
       "    <tr style=\"text-align: right;\">\n",
       "      <th></th>\n",
       "      <th>rating</th>\n",
       "      <th>user_id</th>\n",
       "      <th>song_id</th>\n",
       "      <th>artist_id</th>\n",
       "    </tr>\n",
       "  </thead>\n",
       "  <tbody>\n",
       "    <tr>\n",
       "      <th>0</th>\n",
       "      <td>1.00</td>\n",
       "      <td>0</td>\n",
       "      <td>0</td>\n",
       "      <td>0</td>\n",
       "    </tr>\n",
       "    <tr>\n",
       "      <th>1</th>\n",
       "      <td>0.98</td>\n",
       "      <td>0</td>\n",
       "      <td>2</td>\n",
       "      <td>0</td>\n",
       "    </tr>\n",
       "    <tr>\n",
       "      <th>2</th>\n",
       "      <td>0.97</td>\n",
       "      <td>0</td>\n",
       "      <td>3</td>\n",
       "      <td>0</td>\n",
       "    </tr>\n",
       "    <tr>\n",
       "      <th>3</th>\n",
       "      <td>0.96</td>\n",
       "      <td>0</td>\n",
       "      <td>4</td>\n",
       "      <td>0</td>\n",
       "    </tr>\n",
       "    <tr>\n",
       "      <th>4</th>\n",
       "      <td>0.94</td>\n",
       "      <td>0</td>\n",
       "      <td>6</td>\n",
       "      <td>0</td>\n",
       "    </tr>\n",
       "  </tbody>\n",
       "</table>\n",
       "</div>"
      ],
      "text/plain": [
       "   rating  user_id  song_id  artist_id\n",
       "0    1.00        0        0          0\n",
       "1    0.98        0        2          0\n",
       "2    0.97        0        3          0\n",
       "3    0.96        0        4          0\n",
       "4    0.94        0        6          0"
      ]
     },
     "execution_count": 4,
     "metadata": {},
     "output_type": "execute_result"
    }
   ],
   "source": [
    "%%time\n",
    "\n",
    "pdf = pd.read_csv('pivot_df.csv')\n",
    "pdf.head()"
   ]
  },
  {
   "cell_type": "markdown",
   "id": "f9b19967",
   "metadata": {},
   "source": [
    "## Создам датасет и разобью на трейн/ тест"
   ]
  },
  {
   "cell_type": "code",
   "execution_count": 6,
   "id": "06c8c645",
   "metadata": {
    "ExecuteTime": {
     "end_time": "2023-02-28T10:53:10.796181Z",
     "start_time": "2023-02-28T10:53:09.124293Z"
    }
   },
   "outputs": [
    {
     "name": "stdout",
     "output_type": "stream",
     "text": [
      "Размер матрицы interactions:  <9874x265360 sparse matrix of type '<class 'numpy.int32'>'\n",
      "\twith 493700 stored elements in COOrdinate format>\n",
      "\n",
      "Размер train:  <9874x265360 sparse matrix of type '<class 'numpy.int32'>'\n",
      "\twith 394960 stored elements in COOrdinate format>\n",
      "Размер test:  <9874x265360 sparse matrix of type '<class 'numpy.int32'>'\n",
      "\twith 98740 stored elements in COOrdinate format>\n",
      "\n",
      "Размер train_weights:  <9874x265360 sparse matrix of type '<class 'numpy.float32'>'\n",
      "\twith 394960 stored elements in COOrdinate format>\n",
      "Размер test_weights:  <9874x265360 sparse matrix of type '<class 'numpy.float32'>'\n",
      "\twith 98740 stored elements in COOrdinate format>\n",
      "CPU times: user 1.58 s, sys: 46.1 ms, total: 1.63 s\n",
      "Wall time: 1.66 s\n"
     ]
    }
   ],
   "source": [
    "%%time \n",
    "\n",
    "from lightfm.data import Dataset\n",
    "from lightfm.cross_validation import random_train_test_split\n",
    "\n",
    "# Создаем Dataset для того, чтобы впоследствии корректно разбить данные на трейн и тест \n",
    "dataset = Dataset()\n",
    "dataset.fit((x for x in pdf['user_id']), \n",
    "            (x for x in pdf['song_id']))\n",
    "\n",
    "# Создаем матрицу взаимодействия и веса \n",
    "(interactions, weights) = dataset.build_interactions([(x[0], x[1], x[2]) for x in pdf[['user_id', 'song_id', 'rating']].values])\n",
    "\n",
    "# Разбиваем interactions и веса на train и test\n",
    "train, test = random_train_test_split(interactions, test_percentage=0.2, random_state = 42)\n",
    "train_weights, test_weights = random_train_test_split(weights, test_percentage=0.2, random_state = 42)\n",
    "\n",
    "print('Размер матрицы interactions: ', repr(interactions))\n",
    "print()\n",
    "print('Размер train: ', repr(train))\n",
    "print('Размер test: ', repr(test))\n",
    "print()\n",
    "print('Размер train_weights: ', repr(train_weights))\n",
    "print('Размер test_weights: ', repr(test_weights))\n",
    "\n",
    "\n",
    "# https://making.lyst.com/lightfm/docs/cross_validation.html\n",
    "# lightfm.cross_validation.random_train_test_split"
   ]
  },
  {
   "cell_type": "markdown",
   "id": "332f32b7",
   "metadata": {},
   "source": [
    "## Качество на 25 компонентах, 10 эпох"
   ]
  },
  {
   "cell_type": "code",
   "execution_count": 7,
   "id": "436d6db2",
   "metadata": {
    "ExecuteTime": {
     "end_time": "2023-02-28T11:08:56.885969Z",
     "start_time": "2023-02-28T10:58:22.555759Z"
    }
   },
   "outputs": [
    {
     "name": "stdout",
     "output_type": "stream",
     "text": [
      "Precision: train 0.33\n",
      "Recall: train 0.04\n",
      "AUC: train 1.00\n",
      "Reciprocal_rank: train 0.50\n",
      "CPU times: user 10min 32s, sys: 1.33 s, total: 10min 34s\n",
      "Wall time: 10min 34s\n"
     ]
    }
   ],
   "source": [
    "%%time\n",
    "\n",
    "# Показатели на train'е\n",
    "\n",
    "model_25 = LightFM(loss='warp', random_state=2023, no_components=25)\n",
    "model_25.fit(train, epochs=10)\n",
    "\n",
    "train_precision_25 = precision_at_k(model_25, train, k=5).mean()\n",
    "train_recall_25 = recall_at_k(model_25, train, k=5).mean()\n",
    "train_auc_25 = auc_score(model_25, train).mean()\n",
    "train_reciprocal_rank_25 = reciprocal_rank(model_25, train).mean()\n",
    "\n",
    "print('Precision: train %.2f' % (train_precision_25))\n",
    "print(\"Recall: train %.2f\" % (train_recall_25))\n",
    "\n",
    "print('AUC: train %.2f' % (train_auc_25))\n",
    "print(\"Reciprocal_rank: train %.2f\" % (train_reciprocal_rank_25))"
   ]
  },
  {
   "cell_type": "code",
   "execution_count": 8,
   "id": "1db317e0",
   "metadata": {
    "ExecuteTime": {
     "end_time": "2023-02-28T12:02:46.534293Z",
     "start_time": "2023-02-28T11:09:22.262345Z"
    }
   },
   "outputs": [
    {
     "name": "stdout",
     "output_type": "stream",
     "text": [
      "Precision: test 0.03\n",
      "Recall: test 0.01\n",
      "AUC: test 0.59\n",
      "Reciprocal_rank: test 0.08\n",
      "CPU times: user 15min 49s, sys: 1.53 s, total: 15min 50s\n",
      "Wall time: 53min 24s\n"
     ]
    }
   ],
   "source": [
    "%%time \n",
    "\n",
    "# Показатели на test'е\n",
    "\n",
    "test_precision_25 = precision_at_k(model_25, test_interactions = test, train_interactions = train, k=5, check_intersections=False).mean()\n",
    "test_recall_25 = recall_at_k(model_25, test_interactions = test, train_interactions = train, k=5, check_intersections=False).mean()\n",
    "test_auc_25 = auc_score(model_25, test_interactions = test, train_interactions = train, check_intersections=False).mean()\n",
    "test_reciprocal_rank_25 = reciprocal_rank(model_25, test_interactions = test, train_interactions = train, check_intersections=False).mean()\n",
    "\n",
    "print('Precision: test %.2f' % (test_precision_25))\n",
    "print(\"Recall: test %.2f\" % (test_recall_25))\n",
    "\n",
    "print('AUC: test %.2f' % (test_auc_25))\n",
    "print(\"Reciprocal_rank: test %.2f\" % (test_reciprocal_rank_25))\n"
   ]
  },
  {
   "cell_type": "markdown",
   "id": "19b83458",
   "metadata": {},
   "source": [
    "## Качество на 25 компонентах, 20 эпох"
   ]
  },
  {
   "cell_type": "code",
   "execution_count": 9,
   "id": "a61c9490",
   "metadata": {
    "ExecuteTime": {
     "end_time": "2023-02-28T12:17:21.219987Z",
     "start_time": "2023-02-28T12:02:46.969348Z"
    }
   },
   "outputs": [
    {
     "name": "stdout",
     "output_type": "stream",
     "text": [
      "Precision: train 0.38\n",
      "Recall: train 0.05\n",
      "AUC: train 1.00\n",
      "Reciprocal_rank: train 0.55\n",
      "CPU times: user 10min 33s, sys: 883 ms, total: 10min 34s\n",
      "Wall time: 14min 34s\n"
     ]
    }
   ],
   "source": [
    "%%time\n",
    "\n",
    "# Показатели на train'е\n",
    "\n",
    "model_25_20 = LightFM(loss='warp', random_state=2023, no_components=25)\n",
    "model_25_20.fit(train, epochs=20)\n",
    "\n",
    "train_precision_25_20 = precision_at_k(model_25_20, train, k=5).mean()\n",
    "train_recall_25_20 = recall_at_k(model_25_20, train, k=5).mean()\n",
    "train_auc_25_20 = auc_score(model_25_20, train).mean()\n",
    "train_reciprocal_rank_25_20 = reciprocal_rank(model_25_20, train).mean()\n",
    "\n",
    "print('Precision: train %.2f' % (train_precision_25_20))\n",
    "print(\"Recall: train %.2f\" % (train_recall_25_20))\n",
    "\n",
    "print('AUC: train %.2f' % (train_auc_25_20))\n",
    "print(\"Reciprocal_rank: train %.2f\" % (train_reciprocal_rank_25_20))"
   ]
  },
  {
   "cell_type": "code",
   "execution_count": 10,
   "id": "dc0190db",
   "metadata": {
    "ExecuteTime": {
     "end_time": "2023-02-28T12:37:05.104370Z",
     "start_time": "2023-02-28T12:17:21.221315Z"
    }
   },
   "outputs": [
    {
     "name": "stdout",
     "output_type": "stream",
     "text": [
      "Precision: test 0.03\n",
      "Recall: test 0.01\n",
      "AUC: test 0.60\n",
      "Reciprocal_rank: test 0.07\n",
      "CPU times: user 15min 51s, sys: 1.83 s, total: 15min 53s\n",
      "Wall time: 19min 43s\n"
     ]
    }
   ],
   "source": [
    "%%time \n",
    "\n",
    "# Показатели на test'е\n",
    "\n",
    "test_precision_25_20 = precision_at_k(model_25_20, test_interactions = test, train_interactions = train, k=5, check_intersections=False).mean()\n",
    "test_recall_25_20 = recall_at_k(model_25_20, test_interactions = test, train_interactions = train, k=5, check_intersections=False).mean()\n",
    "test_auc_25_20 = auc_score(model_25_20, test_interactions = test, train_interactions = train, check_intersections=False).mean()\n",
    "test_reciprocal_rank_25_20 = reciprocal_rank(model_25_20, test_interactions = test, train_interactions = train, check_intersections=False).mean()\n",
    "\n",
    "print('Precision: test %.2f' % (test_precision_25_20))\n",
    "print(\"Recall: test %.2f\" % (test_recall_25_20))\n",
    "\n",
    "print('AUC: test %.2f' % (test_auc_25_20))\n",
    "print(\"Reciprocal_rank: test %.2f\" % (test_reciprocal_rank_25_20))"
   ]
  },
  {
   "cell_type": "markdown",
   "id": "a4bc915d",
   "metadata": {},
   "source": [
    "## Качество на 75 компонентах, 10 эпох"
   ]
  },
  {
   "cell_type": "code",
   "execution_count": 11,
   "id": "ba5422d8",
   "metadata": {
    "ExecuteTime": {
     "end_time": "2023-02-28T12:50:11.282757Z",
     "start_time": "2023-02-28T12:37:05.106042Z"
    }
   },
   "outputs": [
    {
     "name": "stdout",
     "output_type": "stream",
     "text": [
      "Precision: train 0.78\n",
      "Recall: train 0.10\n",
      "AUC: train 1.00\n",
      "Reciprocal_rank: train 0.89\n",
      "CPU times: user 13min 4s, sys: 1.49 s, total: 13min 5s\n",
      "Wall time: 13min 6s\n"
     ]
    }
   ],
   "source": [
    "%%time\n",
    "\n",
    "# Показатели на train'е\n",
    "\n",
    "model_75 = LightFM(loss='warp', random_state=2023, no_components=75)\n",
    "model_75.fit(train, epochs=10)\n",
    "\n",
    "train_precision_75 = precision_at_k(model_75, train, k=5).mean()\n",
    "train_recall_75 = recall_at_k(model_75, train, k=5).mean()\n",
    "train_auc_75 = auc_score(model_75, train).mean()\n",
    "train_reciprocal_rank_75 = reciprocal_rank(model_75, train).mean()\n",
    "\n",
    "print('Precision: train %.2f' % (train_precision_75))\n",
    "print(\"Recall: train %.2f\" % (train_recall_75))\n",
    "\n",
    "print('AUC: train %.2f' % (train_auc_75))\n",
    "print(\"Reciprocal_rank: train %.2f\" % (train_reciprocal_rank_75))"
   ]
  },
  {
   "cell_type": "code",
   "execution_count": 12,
   "id": "f97d58f2",
   "metadata": {
    "ExecuteTime": {
     "end_time": "2023-02-28T13:08:21.812542Z",
     "start_time": "2023-02-28T12:50:11.284148Z"
    }
   },
   "outputs": [
    {
     "name": "stdout",
     "output_type": "stream",
     "text": [
      "Precision: test 0.05\n",
      "Recall: test 0.02\n",
      "AUC: test 0.60\n",
      "Reciprocal_rank: test 0.13\n",
      "CPU times: user 18min 5s, sys: 4.53 s, total: 18min 10s\n",
      "Wall time: 18min 10s\n"
     ]
    }
   ],
   "source": [
    "%%time \n",
    "\n",
    "# Показатели на test'е\n",
    "\n",
    "test_precision_75 = precision_at_k(model_75, test_interactions = test, train_interactions = train, k=5, check_intersections=False).mean()\n",
    "test_recall_75 = recall_at_k(model_75, test_interactions = test, train_interactions = train, k=5, check_intersections=False).mean()\n",
    "test_auc_75 = auc_score(model_75, test_interactions = test, train_interactions = train, check_intersections=False).mean()\n",
    "test_reciprocal_rank_75 = reciprocal_rank(model_75, test_interactions = test, train_interactions = train, check_intersections=False).mean()\n",
    "\n",
    "print('Precision: test %.2f' % (test_precision_75))\n",
    "print(\"Recall: test %.2f\" % (test_recall_75))\n",
    "\n",
    "print('AUC: test %.2f' % (test_auc_75))\n",
    "print(\"Reciprocal_rank: test %.2f\" % (test_reciprocal_rank_75))\n"
   ]
  },
  {
   "cell_type": "markdown",
   "id": "d24c27f1",
   "metadata": {},
   "source": [
    "## Качество на 75 компонентах, 20 эпох"
   ]
  },
  {
   "cell_type": "code",
   "execution_count": 15,
   "id": "ede89d4b",
   "metadata": {
    "ExecuteTime": {
     "end_time": "2023-02-28T16:41:16.556021Z",
     "start_time": "2023-02-28T16:27:58.484650Z"
    }
   },
   "outputs": [
    {
     "name": "stdout",
     "output_type": "stream",
     "text": [
      "Precision: train 0.87\n",
      "Recall: train 0.11\n",
      "AUC: train 1.00\n",
      "Reciprocal_rank: train 0.94\n",
      "CPU times: user 13min 15s, sys: 2.38 s, total: 13min 17s\n",
      "Wall time: 13min 18s\n"
     ]
    }
   ],
   "source": [
    "%%time\n",
    "\n",
    "# Показатели на train'е\n",
    "\n",
    "model_75_20 = LightFM(loss='warp', random_state=2023, no_components=75)\n",
    "model_75_20.fit(train, epochs=20)\n",
    "\n",
    "train_precision_75_20 = precision_at_k(model_75_20, train, k=5).mean()\n",
    "train_recall_75_20 = recall_at_k(model_75_20, train, k=5).mean()\n",
    "train_auc_75_20 = auc_score(model_75_20, train).mean()\n",
    "train_reciprocal_rank_75_20 = reciprocal_rank(model_75_20, train).mean()\n",
    "\n",
    "print('Precision: train %.2f' % (train_precision_75_20))\n",
    "print(\"Recall: train %.2f\" % (train_recall_75_20))\n",
    "\n",
    "print('AUC: train %.2f' % (train_auc_75_20))\n",
    "print(\"Reciprocal_rank: train %.2f\" % (train_reciprocal_rank_75_20))"
   ]
  },
  {
   "cell_type": "code",
   "execution_count": 16,
   "id": "4120cd09",
   "metadata": {
    "ExecuteTime": {
     "end_time": "2023-02-28T16:59:24.714380Z",
     "start_time": "2023-02-28T16:41:16.557634Z"
    }
   },
   "outputs": [
    {
     "name": "stdout",
     "output_type": "stream",
     "text": [
      "Precision: test 0.05\n",
      "Recall: test 0.03\n",
      "AUC: test 0.60\n",
      "Reciprocal_rank: test 0.14\n",
      "CPU times: user 18min 4s, sys: 3.09 s, total: 18min 8s\n",
      "Wall time: 18min 8s\n"
     ]
    }
   ],
   "source": [
    "%%time \n",
    "\n",
    "# Показатели на test'е\n",
    "\n",
    "test_precision_75_20 = precision_at_k(model_75_20, test_interactions = test, train_interactions = train, k=5, check_intersections=False).mean()\n",
    "test_recall_75_20 = recall_at_k(model_75_20, test_interactions = test, train_interactions = train, k=5, check_intersections=False).mean()\n",
    "test_auc_75_20 = auc_score(model_75_20, test_interactions = test, train_interactions = train, check_intersections=False).mean()\n",
    "test_reciprocal_rank_75_20 = reciprocal_rank(model_75_20, test_interactions = test, train_interactions = train, check_intersections=False).mean()\n",
    "\n",
    "print('Precision: test %.2f' % (test_precision_75_20))\n",
    "print(\"Recall: test %.2f\" % (test_recall_75_20))\n",
    "\n",
    "print('AUC: test %.2f' % (test_auc_75_20))\n",
    "print(\"Reciprocal_rank: test %.2f\" % (test_reciprocal_rank_75_20))"
   ]
  },
  {
   "cell_type": "markdown",
   "id": "d2fc932e",
   "metadata": {},
   "source": [
    "## Качество на 75 компонентах, 20 эпох, использую weights"
   ]
  },
  {
   "cell_type": "code",
   "execution_count": 17,
   "id": "3dfe23eb",
   "metadata": {
    "ExecuteTime": {
     "end_time": "2023-02-28T17:19:21.200606Z",
     "start_time": "2023-02-28T17:06:00.640003Z"
    }
   },
   "outputs": [
    {
     "name": "stdout",
     "output_type": "stream",
     "text": [
      "Precision: train 0.85\n",
      "Recall: train 0.11\n",
      "AUC: train 1.00\n",
      "Reciprocal_rank: train 0.93\n",
      "CPU times: user 13min 18s, sys: 2.36 s, total: 13min 20s\n",
      "Wall time: 13min 20s\n"
     ]
    }
   ],
   "source": [
    "%%time\n",
    "\n",
    "# Показатели на train'е\n",
    "\n",
    "model_75_20_weights = LightFM(loss='warp', random_state=2023, no_components=75)\n",
    "model_75_20_weights.fit(train,sample_weight = train_weights, epochs=20)\n",
    "\n",
    "train_precision_75_20_weights = precision_at_k(model_75_20_weights, train, k=5).mean()\n",
    "train_recall_75_20_weights = recall_at_k(model_75_20_weights, train, k=5).mean()\n",
    "train_auc_75_20_weights = auc_score(model_75_20_weights, train).mean()\n",
    "train_reciprocal_rank_75_20_weights = reciprocal_rank(model_75_20_weights, train).mean()\n",
    "\n",
    "print('Precision: train %.2f' % (train_precision_75_20_weights))\n",
    "print(\"Recall: train %.2f\" % (train_recall_75_20_weights))\n",
    "\n",
    "print('AUC: train %.2f' % (train_auc_75_20_weights))\n",
    "print(\"Reciprocal_rank: train %.2f\" % (train_reciprocal_rank_75_20_weights))"
   ]
  },
  {
   "cell_type": "code",
   "execution_count": 18,
   "id": "18eb64ad",
   "metadata": {
    "ExecuteTime": {
     "end_time": "2023-02-28T17:37:27.304088Z",
     "start_time": "2023-02-28T17:19:21.202446Z"
    }
   },
   "outputs": [
    {
     "name": "stdout",
     "output_type": "stream",
     "text": [
      "Precision: test 0.05\n",
      "Recall: test 0.03\n",
      "AUC: test 0.61\n",
      "Reciprocal_rank: test 0.15\n",
      "CPU times: user 18min 2s, sys: 3.27 s, total: 18min 5s\n",
      "Wall time: 18min 6s\n"
     ]
    }
   ],
   "source": [
    "%%time \n",
    "\n",
    "# Показатели на test'е\n",
    "\n",
    "test_precision_75_20_weights = precision_at_k(model_75_20_weights, test_interactions = test, train_interactions = train, k=5, check_intersections=False).mean()\n",
    "test_recall_75_20_weights = recall_at_k(model_75_20_weights, test_interactions = test, train_interactions = train, k=5, check_intersections=False).mean()\n",
    "test_auc_75_20_weights = auc_score(model_75_20_weights, test_interactions = test, train_interactions = train, check_intersections=False).mean()\n",
    "test_reciprocal_rank_75_20_weights = reciprocal_rank(model_75_20_weights, test_interactions = test, train_interactions = train, check_intersections=False).mean()\n",
    "\n",
    "print('Precision: test %.2f' % (test_precision_75_20_weights))\n",
    "print(\"Recall: test %.2f\" % (test_recall_75_20_weights))\n",
    "\n",
    "print('AUC: test %.2f' % (test_auc_75_20_weights))\n",
    "print(\"Reciprocal_rank: test %.2f\" % (test_reciprocal_rank_75_20_weights))"
   ]
  },
  {
   "cell_type": "markdown",
   "id": "d092e18f",
   "metadata": {},
   "source": [
    "**Вывод:**   \n",
    "Ключевая метрика качества - precision (k=5) составляет на тесте 0.05"
   ]
  },
  {
   "cell_type": "markdown",
   "id": "ae5d08dc",
   "metadata": {},
   "source": [
    "## Черновик (не смотреть)"
   ]
  },
  {
   "cell_type": "code",
   "execution_count": 95,
   "id": "4a7fc5a9",
   "metadata": {
    "ExecuteTime": {
     "end_time": "2023-02-28T19:56:25.434498Z",
     "start_time": "2023-02-28T19:56:25.415724Z"
    }
   },
   "outputs": [
    {
     "name": "stdout",
     "output_type": "stream",
     "text": [
      "CPU times: user 2.58 ms, sys: 660 µs, total: 3.24 ms\n",
      "Wall time: 3 ms\n"
     ]
    },
    {
     "data": {
      "text/plain": [
       "array([ 1.178301 , -1.3454835, -2.786327 , -2.1459653, -2.1937795,\n",
       "       -2.9295583], dtype=float32)"
      ]
     },
     "execution_count": 95,
     "metadata": {},
     "output_type": "execute_result"
    }
   ],
   "source": [
    "# %%time\n",
    "# predict = model_75_20.predict(user_ids = np.array([0,1,2,5,100, 9873]), item_ids = np.array([0,1,2,100, 265300,265359]))\n",
    "# predict"
   ]
  },
  {
   "cell_type": "code",
   "execution_count": 59,
   "id": "06df8683",
   "metadata": {
    "ExecuteTime": {
     "end_time": "2023-02-28T19:33:19.865570Z",
     "start_time": "2023-02-28T19:28:43.634888Z"
    }
   },
   "outputs": [
    {
     "name": "stdout",
     "output_type": "stream",
     "text": [
      "CPU times: user 4min 35s, sys: 748 ms, total: 4min 36s\n",
      "Wall time: 4min 36s\n"
     ]
    },
    {
     "data": {
      "text/plain": [
       "<9874x265360 sparse matrix of type '<class 'numpy.float32'>'\n",
       "\twith 98578 stored elements in Compressed Sparse Row format>"
      ]
     },
     "execution_count": 59,
     "metadata": {},
     "output_type": "execute_result"
    }
   ],
   "source": [
    "# %%time\n",
    "# rank = model_75_20.predict_rank(test_interactions = test, train_interactions = train, check_intersections=False)\n",
    "# rank"
   ]
  },
  {
   "cell_type": "code",
   "execution_count": 60,
   "id": "e62285a0",
   "metadata": {
    "ExecuteTime": {
     "end_time": "2023-02-28T19:37:01.951856Z",
     "start_time": "2023-02-28T19:37:01.938192Z"
    }
   },
   "outputs": [
    {
     "name": "stdout",
     "output_type": "stream",
     "text": [
      "  (0, 5)\t197082.0\n",
      "  (0, 13)\t186105.0\n",
      "  (0, 15)\t233153.0\n",
      "  (0, 17)\t185810.0\n",
      "  (0, 21)\t150706.0\n",
      "  (0, 97)\t178554.0\n",
      "  (0, 102)\t78134.0\n",
      "  (0, 241)\t217716.0\n",
      "  (0, 242)\t224642.0\n",
      "  (0, 387)\t3656.0\n",
      "  (0, 578)\t881.0\n",
      "  (0, 731)\t213203.0\n",
      "  (1, 5050)\t26.0\n",
      "  (1, 5079)\t2591.0\n",
      "  (1, 34820)\t14913.0\n",
      "  (1, 36879)\t159908.0\n",
      "  (1, 38154)\t52407.0\n",
      "  (1, 49075)\t32345.0\n",
      "  (1, 99604)\t156827.0\n",
      "  (1, 110329)\t242273.0\n",
      "  (1, 136145)\t199362.0\n",
      "  (2, 16)\t215149.0\n",
      "  (2, 21818)\t180728.0\n",
      "  (2, 21819)\t78735.0\n",
      "  (2, 67454)\t218106.0\n",
      "  :\t:\n",
      "  (9871, 229377)\t156332.0\n",
      "  (9871, 229380)\t8850.0\n",
      "  (9871, 229383)\t79048.0\n",
      "  (9871, 229390)\t102313.0\n",
      "  (9872, 230559)\t146262.0\n",
      "  (9872, 230564)\t189312.0\n",
      "  (9872, 230568)\t245559.0\n",
      "  (9872, 230571)\t145029.0\n",
      "  (9872, 230577)\t216783.0\n",
      "  (9872, 230585)\t179128.0\n",
      "  (9872, 230595)\t133387.0\n",
      "  (9873, 260322)\t195346.0\n",
      "  (9873, 260330)\t182312.0\n",
      "  (9873, 260332)\t169059.0\n",
      "  (9873, 260335)\t127417.0\n",
      "  (9873, 260340)\t244398.0\n",
      "  (9873, 260341)\t206269.0\n",
      "  (9873, 260349)\t169627.0\n",
      "  (9873, 260352)\t180980.0\n",
      "  (9873, 260357)\t199045.0\n",
      "  (9873, 260358)\t222158.0\n",
      "  (9873, 260360)\t171720.0\n",
      "  (9873, 260361)\t167889.0\n",
      "  (9873, 260363)\t176344.0\n",
      "  (9873, 260364)\t145248.0\n"
     ]
    }
   ],
   "source": [
    "# print(rank)"
   ]
  }
 ],
 "metadata": {
  "kernelspec": {
   "display_name": "Python 3 (ipykernel)",
   "language": "python",
   "name": "python3"
  },
  "language_info": {
   "codemirror_mode": {
    "name": "ipython",
    "version": 3
   },
   "file_extension": ".py",
   "mimetype": "text/x-python",
   "name": "python",
   "nbconvert_exporter": "python",
   "pygments_lexer": "ipython3",
   "version": "3.9.7"
  },
  "toc": {
   "base_numbering": 1,
   "nav_menu": {},
   "number_sections": true,
   "sideBar": true,
   "skip_h1_title": false,
   "title_cell": "Table of Contents",
   "title_sidebar": "Contents",
   "toc_cell": false,
   "toc_position": {},
   "toc_section_display": true,
   "toc_window_display": false
  }
 },
 "nbformat": 4,
 "nbformat_minor": 5
}
