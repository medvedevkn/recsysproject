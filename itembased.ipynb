{
 "cells": [
  {
   "cell_type": "code",
   "execution_count": 290,
   "id": "62e29fcf",
   "metadata": {},
   "outputs": [],
   "source": [
    "import requests\n",
    "import json\n",
    "import pandas as pd\n",
    "import tqdm\n",
    "import time\n",
    "import numpy as np\n",
    "from scipy import spatial\n",
    "import scipy as sc\n",
    "from scipy.sparse import csr_matrix\n",
    "import warnings\n",
    "warnings.filterwarnings(\"ignore\")\n",
    "import random"
   ]
  },
  {
   "cell_type": "code",
   "execution_count": 2,
   "id": "bb9ad72a",
   "metadata": {},
   "outputs": [],
   "source": [
    "import matplotlib.pyplot as plt \n",
    "import seaborn as sns           \n",
    "%matplotlib inline"
   ]
  },
  {
   "cell_type": "code",
   "execution_count": 3,
   "id": "82e4eb96",
   "metadata": {},
   "outputs": [],
   "source": [
    "def lastfm_get(payload):\n",
    "    # define headers and URL\n",
    "    headers = {'user-agent': 'EDU_PROJECT'}      # здесь впишите что-нибудь другое, если начнут банить аккаунты - \n",
    "                                                 # могут всех скопом с таким user-agent'ом подбанить :)\n",
    "    url = 'https://ws.audioscrobbler.com/2.0/'\n",
    "\n",
    "    # Add API key and format to the payload\n",
    "    payload['api_key'] = 'a18850b469ecb6fa86579fb399e96b9b' # подставить свой апи ключ\n",
    "    payload['format'] = 'json'\n",
    "\n",
    "    response = requests.get(url, headers=headers, params=payload)\n",
    "    return response"
   ]
  },
  {
   "cell_type": "code",
   "execution_count": 89,
   "id": "5a401a9e",
   "metadata": {
    "scrolled": true
   },
   "outputs": [
    {
     "data": {
      "text/plain": [
       "{'toptags': {'tag': [{'count': 100,\n",
       "    'name': 'thrash metal',\n",
       "    'url': 'https://www.last.fm/tag/thrash+metal'},\n",
       "   {'count': 51,\n",
       "    'name': 'heavy metal',\n",
       "    'url': 'https://www.last.fm/tag/heavy+metal'},\n",
       "   {'count': 43, 'name': 'metal', 'url': 'https://www.last.fm/tag/metal'},\n",
       "   {'count': 31,\n",
       "    'name': 'speed metal',\n",
       "    'url': 'https://www.last.fm/tag/speed+metal'},\n",
       "   {'count': 19,\n",
       "    'name': 'seen live',\n",
       "    'url': 'https://www.last.fm/tag/seen+live'},\n",
       "   {'count': 14, 'name': 'thrash', 'url': 'https://www.last.fm/tag/thrash'},\n",
       "   {'count': 6,\n",
       "    'name': 'hard rock',\n",
       "    'url': 'https://www.last.fm/tag/hard+rock'},\n",
       "   {'count': 5, 'name': 'rock', 'url': 'https://www.last.fm/tag/rock'},\n",
       "   {'count': 5, 'name': 'american', 'url': 'https://www.last.fm/tag/american'},\n",
       "   {'count': 4, 'name': 'Megadeth', 'url': 'https://www.last.fm/tag/Megadeth'},\n",
       "   {'count': 3, 'name': '80s', 'url': 'https://www.last.fm/tag/80s'},\n",
       "   {'count': 2,\n",
       "    'name': 'trash metal',\n",
       "    'url': 'https://www.last.fm/tag/trash+metal'},\n",
       "   {'count': 2, 'name': 'USA', 'url': 'https://www.last.fm/tag/USA'},\n",
       "   {'count': 2, 'name': '90s', 'url': 'https://www.last.fm/tag/90s'},\n",
       "   {'count': 2,\n",
       "    'name': 'Dave Mustaine',\n",
       "    'url': 'https://www.last.fm/tag/Dave+Mustaine'},\n",
       "   {'count': 2,\n",
       "    'name': 'Progressive metal',\n",
       "    'url': 'https://www.last.fm/tag/Progressive+metal'},\n",
       "   {'count': 1,\n",
       "    'name': 'Better than Metallica',\n",
       "    'url': 'https://www.last.fm/tag/Better+than+Metallica'}],\n",
       "  '@attr': {'artist': 'Megadeth'}}}"
      ]
     },
     "execution_count": 89,
     "metadata": {},
     "output_type": "execute_result"
    }
   ],
   "source": [
    "t1 = lastfm_get({\n",
    "    'artist' : 'Megadeth',\n",
    "    'method': 'artist.getTopTags'\n",
    "    })\n",
    "t1.json()"
   ]
  },
  {
   "cell_type": "markdown",
   "id": "9d3a9dc0",
   "metadata": {},
   "source": [
    "Подгружаем теги по каждому исполнителю - часто в них \"зашита\" информация по жанрам, в которых данный исполнитель создает музыку"
   ]
  },
  {
   "cell_type": "code",
   "execution_count": 96,
   "id": "9b82646b",
   "metadata": {},
   "outputs": [],
   "source": [
    "def get_artist_tags(artists, tag_num):\n",
    "    df = pd.DataFrame(columns = ['artist', 'tags'])\n",
    "    for ar in tqdm.tqdm(artists):\n",
    "        try:\n",
    "            tags = []\n",
    "            t1 = lastfm_get({\n",
    "            'artist' : ar,\n",
    "            'method': 'artist.getTopTags'})\n",
    "            data = t1.json()['toptags']['tag']\n",
    "            ln = min(tag_num, len(data))\n",
    "            for i in range(ln):\n",
    "                tags.append(data[i]['name'])\n",
    "                res = ', '.join(tags)\n",
    "            df.loc[len(df)] = [ar, res]\n",
    "        except Exception:\n",
    "            print('Error occured on string:', ar)\n",
    "            df.loc[len(df)] = [ar, np.nan]\n",
    "            continue\n",
    "    return df"
   ]
  },
  {
   "cell_type": "code",
   "execution_count": 99,
   "id": "46df43b4",
   "metadata": {},
   "outputs": [
    {
     "name": "stderr",
     "output_type": "stream",
     "text": [
      "100%|████████████████████████████████████████████████████████████████████████████| 11226/11226 [49:12<00:00,  3.80it/s]\n"
     ]
    }
   ],
   "source": [
    "tags = get_artist_tags(art, 5)"
   ]
  },
  {
   "cell_type": "code",
   "execution_count": 101,
   "id": "2bf46d1d",
   "metadata": {},
   "outputs": [],
   "source": [
    "tags.to_csv('tag.csv', index=False)"
   ]
  },
  {
   "cell_type": "code",
   "execution_count": 5,
   "id": "b796d4ea",
   "metadata": {},
   "outputs": [
    {
     "data": {
      "text/html": [
       "<div>\n",
       "<style scoped>\n",
       "    .dataframe tbody tr th:only-of-type {\n",
       "        vertical-align: middle;\n",
       "    }\n",
       "\n",
       "    .dataframe tbody tr th {\n",
       "        vertical-align: top;\n",
       "    }\n",
       "\n",
       "    .dataframe thead th {\n",
       "        text-align: right;\n",
       "    }\n",
       "</style>\n",
       "<table border=\"1\" class=\"dataframe\">\n",
       "  <thead>\n",
       "    <tr style=\"text-align: right;\">\n",
       "      <th></th>\n",
       "      <th>artist</th>\n",
       "      <th>tags</th>\n",
       "    </tr>\n",
       "  </thead>\n",
       "  <tbody>\n",
       "    <tr>\n",
       "      <th>0</th>\n",
       "      <td>Radiohead</td>\n",
       "      <td>alternative, alternative rock, rock, indie, el...</td>\n",
       "    </tr>\n",
       "    <tr>\n",
       "      <th>1</th>\n",
       "      <td>Boards of Canada</td>\n",
       "      <td>ambient, electronic, idm, electronica, chillout</td>\n",
       "    </tr>\n",
       "    <tr>\n",
       "      <th>2</th>\n",
       "      <td>Interpol</td>\n",
       "      <td>indie, indie rock, post-punk, seen live, alter...</td>\n",
       "    </tr>\n",
       "    <tr>\n",
       "      <th>3</th>\n",
       "      <td>The National</td>\n",
       "      <td>seen live, indie rock, indie, alternative, rock</td>\n",
       "    </tr>\n",
       "    <tr>\n",
       "      <th>4</th>\n",
       "      <td>Burial</td>\n",
       "      <td>dubstep, electronic, ambient, experimental, el...</td>\n",
       "    </tr>\n",
       "    <tr>\n",
       "      <th>5</th>\n",
       "      <td>Aphex Twin</td>\n",
       "      <td>electronic, idm, ambient, experimental, electr...</td>\n",
       "    </tr>\n",
       "    <tr>\n",
       "      <th>6</th>\n",
       "      <td>Arctic Monkeys</td>\n",
       "      <td>indie rock, indie, british, rock, alternative</td>\n",
       "    </tr>\n",
       "    <tr>\n",
       "      <th>7</th>\n",
       "      <td>Nine Inch Nails</td>\n",
       "      <td>industrial, industrial rock, rock, alternative...</td>\n",
       "    </tr>\n",
       "    <tr>\n",
       "      <th>8</th>\n",
       "      <td>Animal Collective</td>\n",
       "      <td>experimental, indie, freak folk, seen live, in...</td>\n",
       "    </tr>\n",
       "    <tr>\n",
       "      <th>9</th>\n",
       "      <td>Bon Iver</td>\n",
       "      <td>folk, indie, singer-songwriter, acoustic, seen...</td>\n",
       "    </tr>\n",
       "    <tr>\n",
       "      <th>10</th>\n",
       "      <td>The xx</td>\n",
       "      <td>indie, electronic, british, post-punk, seen live</td>\n",
       "    </tr>\n",
       "    <tr>\n",
       "      <th>11</th>\n",
       "      <td>David Bowie</td>\n",
       "      <td>rock, glam rock, classic rock, 80s, alternative</td>\n",
       "    </tr>\n",
       "    <tr>\n",
       "      <th>12</th>\n",
       "      <td>The Smiths</td>\n",
       "      <td>indie, 80s, post-punk, new wave, alternative</td>\n",
       "    </tr>\n",
       "    <tr>\n",
       "      <th>13</th>\n",
       "      <td>Joy Division</td>\n",
       "      <td>post-punk, new wave, 80s, alternative, indie</td>\n",
       "    </tr>\n",
       "    <tr>\n",
       "      <th>14</th>\n",
       "      <td>Pink Floyd</td>\n",
       "      <td>Progressive rock, classic rock, Psychedelic Ro...</td>\n",
       "    </tr>\n",
       "    <tr>\n",
       "      <th>15</th>\n",
       "      <td>Massive Attack</td>\n",
       "      <td>trip-hop, electronic, chillout, downtempo, ele...</td>\n",
       "    </tr>\n",
       "    <tr>\n",
       "      <th>16</th>\n",
       "      <td>Depeche Mode</td>\n",
       "      <td>electronic, new wave, 80s, synthpop, synth pop</td>\n",
       "    </tr>\n",
       "    <tr>\n",
       "      <th>17</th>\n",
       "      <td>The Beatles</td>\n",
       "      <td>classic rock, rock, british, 60s, pop</td>\n",
       "    </tr>\n",
       "    <tr>\n",
       "      <th>18</th>\n",
       "      <td>Arcade Fire</td>\n",
       "      <td>indie, indie rock, alternative, Canadian, seen...</td>\n",
       "    </tr>\n",
       "    <tr>\n",
       "      <th>19</th>\n",
       "      <td>Beach House</td>\n",
       "      <td>dream pop, seen live, indie pop, indie, Lo-Fi</td>\n",
       "    </tr>\n",
       "  </tbody>\n",
       "</table>\n",
       "</div>"
      ],
      "text/plain": [
       "               artist                                               tags\n",
       "0           Radiohead  alternative, alternative rock, rock, indie, el...\n",
       "1    Boards of Canada    ambient, electronic, idm, electronica, chillout\n",
       "2            Interpol  indie, indie rock, post-punk, seen live, alter...\n",
       "3        The National    seen live, indie rock, indie, alternative, rock\n",
       "4              Burial  dubstep, electronic, ambient, experimental, el...\n",
       "5          Aphex Twin  electronic, idm, ambient, experimental, electr...\n",
       "6      Arctic Monkeys      indie rock, indie, british, rock, alternative\n",
       "7     Nine Inch Nails  industrial, industrial rock, rock, alternative...\n",
       "8   Animal Collective  experimental, indie, freak folk, seen live, in...\n",
       "9            Bon Iver  folk, indie, singer-songwriter, acoustic, seen...\n",
       "10             The xx   indie, electronic, british, post-punk, seen live\n",
       "11        David Bowie    rock, glam rock, classic rock, 80s, alternative\n",
       "12         The Smiths       indie, 80s, post-punk, new wave, alternative\n",
       "13       Joy Division       post-punk, new wave, 80s, alternative, indie\n",
       "14         Pink Floyd  Progressive rock, classic rock, Psychedelic Ro...\n",
       "15     Massive Attack  trip-hop, electronic, chillout, downtempo, ele...\n",
       "16       Depeche Mode     electronic, new wave, 80s, synthpop, synth pop\n",
       "17        The Beatles              classic rock, rock, british, 60s, pop\n",
       "18        Arcade Fire  indie, indie rock, alternative, Canadian, seen...\n",
       "19        Beach House      dream pop, seen live, indie pop, indie, Lo-Fi"
      ]
     },
     "execution_count": 5,
     "metadata": {},
     "output_type": "execute_result"
    }
   ],
   "source": [
    "pd.read_csv('tag.csv').head(20)"
   ]
  },
  {
   "cell_type": "code",
   "execution_count": 34,
   "id": "84264321",
   "metadata": {},
   "outputs": [],
   "source": [
    "dft = pd.read_csv('df_test.csv', index_col=0)"
   ]
  },
  {
   "cell_type": "code",
   "execution_count": 35,
   "id": "e3e37297",
   "metadata": {},
   "outputs": [],
   "source": [
    "df = pd.read_csv('df_train.csv', index_col=0)"
   ]
  },
  {
   "cell_type": "code",
   "execution_count": 36,
   "id": "8658fae1",
   "metadata": {},
   "outputs": [],
   "source": [
    "rdf = pd.concat([df, dft]).reset_index(drop=True)"
   ]
  },
  {
   "cell_type": "code",
   "execution_count": 37,
   "id": "a0a75c9b",
   "metadata": {},
   "outputs": [],
   "source": [
    "tags = pd.read_csv('tag.csv')"
   ]
  },
  {
   "cell_type": "markdown",
   "id": "b50c1367",
   "metadata": {},
   "source": [
    "### Preparing data\n",
    "#### Приведение типов, удаление лишних столбцов, очистка по условию \"используем лишь песни, которые прослушало минимум 2 пользователя"
   ]
  },
  {
   "cell_type": "code",
   "execution_count": 4,
   "id": "f68b45dc",
   "metadata": {},
   "outputs": [],
   "source": [
    "def clean_dataset(df):\n",
    "    df['rank'] = df['rank'].astype(int)\n",
    "    df['rating'] = (101 - df['rank'])/100\n",
    "    df = df.loc[df['rating'] > 0.5].reset_index(drop=True)\n",
    "    df['song_name'] = [str(x)[:40] for x in list(df['artist_song'])]\n",
    "    df = df[['login', 'rating', 'song_name', 'artist', 'count']]\n",
    "    df = df.drop_duplicates().reset_index(drop=True)\n",
    "    ex_logins = df.loc[(df['rating'] > 0.5) & (df['count'] == 1)]['login']\n",
    "    dct = dict(df['song_name'].value_counts())\n",
    "    print(df.shape)\n",
    "    print(len(ex_logins))\n",
    "    df = df[~df.login.isin(ex_logins)]\n",
    "    print(df.shape)\n",
    "    return df.reset_index(drop=True)"
   ]
  },
  {
   "cell_type": "code",
   "execution_count": 40,
   "id": "c68cc9d9",
   "metadata": {},
   "outputs": [
    {
     "name": "stdout",
     "output_type": "stream",
     "text": [
      "(503700, 5)\n",
      "5415\n",
      "(503700, 5)\n",
      "(493700, 5)\n",
      "(493700, 5)\n"
     ]
    }
   ],
   "source": [
    "df = clean_dataset(rdf)"
   ]
  },
  {
   "cell_type": "code",
   "execution_count": 41,
   "id": "7f32f790",
   "metadata": {},
   "outputs": [
    {
     "data": {
      "text/plain": [
       "Radiohead             4113\n",
       "Boards of Canada      2641\n",
       "Interpol              2291\n",
       "Burial                1784\n",
       "The National          1750\n",
       "                      ... \n",
       "David Pagmar             1\n",
       "Cultural Amnesia         1\n",
       "Michael Cera Palin       1\n",
       "Band of Pain             1\n",
       "Tom Zanetti              1\n",
       "Name: artist, Length: 62101, dtype: int64"
      ]
     },
     "execution_count": 41,
     "metadata": {},
     "output_type": "execute_result"
    }
   ],
   "source": [
    "df.artist.value_counts()"
   ]
  },
  {
   "cell_type": "code",
   "execution_count": 42,
   "id": "93e0a884",
   "metadata": {},
   "outputs": [
    {
     "name": "stdout",
     "output_type": "stream",
     "text": [
      "29002\n"
     ]
    }
   ],
   "source": [
    "cnt = 0\n",
    "dd = dict(df.artist.value_counts())\n",
    "for d in dd:\n",
    "    if dd[d] > 1:\n",
    "        cnt += 1\n",
    "        \n",
    "print(cnt)"
   ]
  },
  {
   "cell_type": "code",
   "execution_count": 43,
   "id": "3582fff1",
   "metadata": {},
   "outputs": [],
   "source": [
    "udf = df.merge(tags, how='left', left_on='artist', right_on='artist')"
   ]
  },
  {
   "cell_type": "code",
   "execution_count": 44,
   "id": "c35fb52b",
   "metadata": {},
   "outputs": [],
   "source": [
    "del df\n",
    "del rdf\n",
    "del dft"
   ]
  },
  {
   "cell_type": "markdown",
   "id": "0df28885",
   "metadata": {},
   "source": [
    "#### Песни с самым высоким рейтингом (независимо от количества оценок)"
   ]
  },
  {
   "cell_type": "code",
   "execution_count": 45,
   "id": "14928d37",
   "metadata": {},
   "outputs": [
    {
     "data": {
      "text/plain": [
       "song_name\n",
       "The Books -- You'll Never Be Alone     1.0\n",
       "[unknown] -- Pista 3                   1.0\n",
       "Robert Pattinson -- Bella's Lullaby    1.0\n",
       "Robert Pattinson -- Bella's Song       1.0\n",
       "Robert Pattinson -- Bella's_Lullaby    1.0\n",
       "Name: rating, dtype: float64"
      ]
     },
     "execution_count": 45,
     "metadata": {},
     "output_type": "execute_result"
    }
   ],
   "source": [
    "udf.groupby('song_name')['rating'].mean().sort_values(ascending=False).head()"
   ]
  },
  {
   "cell_type": "markdown",
   "id": "f63084e4",
   "metadata": {},
   "source": [
    "#### Самые часто встречающиеся песни"
   ]
  },
  {
   "cell_type": "code",
   "execution_count": 46,
   "id": "76af6d0f",
   "metadata": {},
   "outputs": [
    {
     "data": {
      "text/plain": [
       "song_name\n",
       "Bon Iver -- Skinny Love                    263\n",
       "Burial -- Archangel                        251\n",
       "Joy Division -- Love Will Tear Us Apart    235\n",
       "The xx -- Crystalised                      214\n",
       "Radiohead -- Reckoner                      206\n",
       "Name: rating, dtype: int64"
      ]
     },
     "execution_count": 46,
     "metadata": {},
     "output_type": "execute_result"
    }
   ],
   "source": [
    "udf.groupby('song_name')['rating'].count().sort_values(ascending=False).head()"
   ]
  },
  {
   "cell_type": "code",
   "execution_count": 47,
   "id": "3bddb7eb",
   "metadata": {},
   "outputs": [],
   "source": [
    "u_means = pd.DataFrame(udf.groupby('song_name')['rating'].mean().reset_index())"
   ]
  },
  {
   "cell_type": "code",
   "execution_count": 48,
   "id": "4d68b407",
   "metadata": {},
   "outputs": [],
   "source": [
    "u_means['rating_counts'] = list(udf.groupby('song_name')['rating'].count())"
   ]
  },
  {
   "cell_type": "code",
   "execution_count": 50,
   "id": "5f07f509",
   "metadata": {},
   "outputs": [
    {
     "data": {
      "text/plain": [
       "<AxesSubplot:>"
      ]
     },
     "execution_count": 50,
     "metadata": {},
     "output_type": "execute_result"
    },
    {
     "data": {
      "image/png": "[encoded data removed]",
      "text/plain": [
       "<Figure size 720x576 with 1 Axes>"
      ]
     },
     "metadata": {
      "needs_background": "light"
     },
     "output_type": "display_data"
    }
   ],
   "source": [
    "plt.figure(figsize=(10,8))\n",
    "plt.rcParams['patch.force_edgecolor'] = True\n",
    "u_means['rating_counts'].hist(bins=20)"
   ]
  },
  {
   "cell_type": "markdown",
   "id": "7e544158",
   "metadata": {},
   "source": [
    "#### Подавляющее число оценок песен находится ниже 50 шт (т.е. 50 и менее пользователей оценило песню)"
   ]
  },
  {
   "cell_type": "code",
   "execution_count": 51,
   "id": "1f47c8b3",
   "metadata": {},
   "outputs": [
    {
     "data": {
      "text/plain": [
       "<AxesSubplot:>"
      ]
     },
     "execution_count": 51,
     "metadata": {},
     "output_type": "execute_result"
    },
    {
     "data": {
      "image/png": "[encoded data removed]",
      "text/plain": [
       "<Figure size 720x576 with 1 Axes>"
      ]
     },
     "metadata": {
      "needs_background": "light"
     },
     "output_type": "display_data"
    }
   ],
   "source": [
    "plt.figure(figsize=(10,8))\n",
    "plt.rcParams['patch.force_edgecolor'] = True\n",
    "u_means['rating'].hist(bins=50)"
   ]
  },
  {
   "cell_type": "markdown",
   "id": "4efe1b38",
   "metadata": {},
   "source": [
    "#### Распределение оценок после очистки данных - песен, которые встречаются лишь однажды"
   ]
  },
  {
   "cell_type": "code",
   "execution_count": 52,
   "id": "933d64d5",
   "metadata": {},
   "outputs": [
    {
     "data": {
      "text/plain": [
       "<seaborn.axisgrid.JointGrid at 0x1e1d07eaee0>"
      ]
     },
     "execution_count": 52,
     "metadata": {},
     "output_type": "execute_result"
    },
    {
     "data": {
      "text/plain": [
       "<Figure size 720x576 with 0 Axes>"
      ]
     },
     "metadata": {},
     "output_type": "display_data"
    },
    {
     "data": {
      "image/png": "[encoded data removed]",
      "text/plain": [
       "<Figure size 432x432 with 3 Axes>"
      ]
     },
     "metadata": {
      "needs_background": "light"
     },
     "output_type": "display_data"
    }
   ],
   "source": [
    "plt.figure(figsize=(10,8))\n",
    "plt.rcParams['patch.force_edgecolor'] = True\n",
    "sns.jointplot(x='rating', y='rating_counts', data=u_means, alpha=0.4)"
   ]
  },
  {
   "cell_type": "code",
   "execution_count": 53,
   "id": "a0ec5afc",
   "metadata": {
    "scrolled": true
   },
   "outputs": [
    {
     "data": {
      "text/plain": [
       "Radiohead              4113\n",
       "Boards of Canada       2641\n",
       "Interpol               2291\n",
       "Burial                 1784\n",
       "The National           1750\n",
       "Bon Iver               1499\n",
       "The xx                 1479\n",
       "Aphex Twin             1422\n",
       "Nine Inch Nails        1403\n",
       "Arctic Monkeys         1382\n",
       "Animal Collective      1363\n",
       "Joy Division           1314\n",
       "The Smiths             1261\n",
       "Massive Attack         1231\n",
       "David Bowie            1219\n",
       "Pink Floyd             1210\n",
       "Depeche Mode           1143\n",
       "Arcade Fire            1109\n",
       "Beach House            1084\n",
       "my bloody valentine    1028\n",
       "Coldplay                994\n",
       "Muse                    992\n",
       "The Cure                987\n",
       "The Beatles             939\n",
       "Elliott Smith           881\n",
       "Portishead              875\n",
       "Crystal Castles         867\n",
       "Daft Punk               833\n",
       "Beirut                  830\n",
       "Air                     814\n",
       "Autechre                804\n",
       "Kanye West              803\n",
       "Sufjan Stevens          800\n",
       "The Knife               791\n",
       "Lana Del Rey            783\n",
       "Bob Dylan               770\n",
       "Bonobo                  766\n",
       "Deerhunter              761\n",
       "Sigur Rós               752\n",
       "Tool                    749\n",
       "Flying Lotus            744\n",
       "Lady Gaga               735\n",
       "Grouper                 717\n",
       "Pixies                  714\n",
       "Björk                   713\n",
       "Fleet Foxes             697\n",
       "Slowdive                691\n",
       "The Strokes             680\n",
       "Cat Power               674\n",
       "Death Cab for Cutie     672\n",
       "Name: artist, dtype: int64"
      ]
     },
     "execution_count": 53,
     "metadata": {},
     "output_type": "execute_result"
    }
   ],
   "source": [
    "udf.artist.value_counts().head(50)"
   ]
  },
  {
   "cell_type": "markdown",
   "id": "c67aa3f4",
   "metadata": {},
   "source": [
    "#### Выше указаны самые часто оцениваемые исполнители среди пользователей"
   ]
  },
  {
   "cell_type": "code",
   "execution_count": 126,
   "id": "d40c5083",
   "metadata": {},
   "outputs": [],
   "source": [
    "def make_pivot(df):\n",
    "    users = pd.unique(df.login)\n",
    "    sdict = dict()\n",
    "    songs = list(pd.unique(df.song_name))\n",
    "    for i in range(len(songs)):\n",
    "        sdict[songs[i]] = i\n",
    "    res_df = pd.DataFrame(columns = ['login'] + list(range(len(songs))))\n",
    "    print(res_df.shape)\n",
    "    for user in tqdm.tqdm(users):\n",
    "        tempdf = df.loc[df.login == user]\n",
    "        urow = [user] + (len(songs)) * [0]\n",
    "        print(len(urow))\n",
    "        print(len(songs))\n",
    "        for index, row in tempdf.iterrows():\n",
    "            urow[sdict[row['song_name']] + 1] = row['rating']\n",
    "        res_df.loc[len(res_df)] = urow\n",
    "    return res_df, sdict"
   ]
  },
  {
   "cell_type": "markdown",
   "id": "b3e53f58",
   "metadata": {},
   "source": [
    "#### С помощью функции выше кодируем исполнителей, пользователей и песни для \"облегченного\" представления таблицы"
   ]
  },
  {
   "cell_type": "code",
   "execution_count": 54,
   "id": "624f8993",
   "metadata": {},
   "outputs": [
    {
     "data": {
      "text/html": [
       "<div>\n",
       "<style scoped>\n",
       "    .dataframe tbody tr th:only-of-type {\n",
       "        vertical-align: middle;\n",
       "    }\n",
       "\n",
       "    .dataframe tbody tr th {\n",
       "        vertical-align: top;\n",
       "    }\n",
       "\n",
       "    .dataframe thead th {\n",
       "        text-align: right;\n",
       "    }\n",
       "</style>\n",
       "<table border=\"1\" class=\"dataframe\">\n",
       "  <thead>\n",
       "    <tr style=\"text-align: right;\">\n",
       "      <th></th>\n",
       "      <th>login</th>\n",
       "      <th>user_id</th>\n",
       "    </tr>\n",
       "  </thead>\n",
       "  <tbody>\n",
       "    <tr>\n",
       "      <th>0</th>\n",
       "      <td>AceCrikey</td>\n",
       "      <td>0</td>\n",
       "    </tr>\n",
       "    <tr>\n",
       "      <th>1</th>\n",
       "      <td>AcidFeelings</td>\n",
       "      <td>1</td>\n",
       "    </tr>\n",
       "    <tr>\n",
       "      <th>2</th>\n",
       "      <td>AcidMotherT-le</td>\n",
       "      <td>2</td>\n",
       "    </tr>\n",
       "    <tr>\n",
       "      <th>3</th>\n",
       "      <td>Acidart</td>\n",
       "      <td>3</td>\n",
       "    </tr>\n",
       "    <tr>\n",
       "      <th>4</th>\n",
       "      <td>Acribia</td>\n",
       "      <td>4</td>\n",
       "    </tr>\n",
       "    <tr>\n",
       "      <th>...</th>\n",
       "      <td>...</td>\n",
       "      <td>...</td>\n",
       "    </tr>\n",
       "    <tr>\n",
       "      <th>9869</th>\n",
       "      <td>yelizwho</td>\n",
       "      <td>9869</td>\n",
       "    </tr>\n",
       "    <tr>\n",
       "      <th>9870</th>\n",
       "      <td>yenpox</td>\n",
       "      <td>9870</td>\n",
       "    </tr>\n",
       "    <tr>\n",
       "      <th>9871</th>\n",
       "      <td>yerbahydris</td>\n",
       "      <td>9871</td>\n",
       "    </tr>\n",
       "    <tr>\n",
       "      <th>9872</th>\n",
       "      <td>yesjohnterry</td>\n",
       "      <td>9872</td>\n",
       "    </tr>\n",
       "    <tr>\n",
       "      <th>9873</th>\n",
       "      <td>yesoos</td>\n",
       "      <td>9873</td>\n",
       "    </tr>\n",
       "  </tbody>\n",
       "</table>\n",
       "<p>9874 rows × 2 columns</p>\n",
       "</div>"
      ],
      "text/plain": [
       "               login  user_id\n",
       "0          AceCrikey        0\n",
       "1       AcidFeelings        1\n",
       "2     AcidMotherT-le        2\n",
       "3            Acidart        3\n",
       "4            Acribia        4\n",
       "...              ...      ...\n",
       "9869        yelizwho     9869\n",
       "9870          yenpox     9870\n",
       "9871     yerbahydris     9871\n",
       "9872    yesjohnterry     9872\n",
       "9873          yesoos     9873\n",
       "\n",
       "[9874 rows x 2 columns]"
      ]
     },
     "execution_count": 54,
     "metadata": {},
     "output_type": "execute_result"
    }
   ],
   "source": [
    "user_index = pd.DataFrame(columns = ['login'], data = pd.unique(udf['login']))\n",
    "user_index['user_id'] = user_index.index\n",
    "user_index"
   ]
  },
  {
   "cell_type": "code",
   "execution_count": 55,
   "id": "7a800557",
   "metadata": {},
   "outputs": [],
   "source": [
    "user_index.to_csv('u_index.csv', index=False)"
   ]
  },
  {
   "cell_type": "code",
   "execution_count": 56,
   "id": "c4dd3054",
   "metadata": {},
   "outputs": [
    {
     "data": {
      "text/html": [
       "<div>\n",
       "<style scoped>\n",
       "    .dataframe tbody tr th:only-of-type {\n",
       "        vertical-align: middle;\n",
       "    }\n",
       "\n",
       "    .dataframe tbody tr th {\n",
       "        vertical-align: top;\n",
       "    }\n",
       "\n",
       "    .dataframe thead th {\n",
       "        text-align: right;\n",
       "    }\n",
       "</style>\n",
       "<table border=\"1\" class=\"dataframe\">\n",
       "  <thead>\n",
       "    <tr style=\"text-align: right;\">\n",
       "      <th></th>\n",
       "      <th>song_name</th>\n",
       "      <th>song_id</th>\n",
       "    </tr>\n",
       "  </thead>\n",
       "  <tbody>\n",
       "    <tr>\n",
       "      <th>0</th>\n",
       "      <td>Stackridge -- The Volunteer</td>\n",
       "      <td>0</td>\n",
       "    </tr>\n",
       "    <tr>\n",
       "      <th>1</th>\n",
       "      <td>Sparks -- Here In Heaven</td>\n",
       "      <td>1</td>\n",
       "    </tr>\n",
       "    <tr>\n",
       "      <th>2</th>\n",
       "      <td>Stackridge -- Spin Around The Room</td>\n",
       "      <td>2</td>\n",
       "    </tr>\n",
       "    <tr>\n",
       "      <th>3</th>\n",
       "      <td>Stackridge -- Happy in the Lord</td>\n",
       "      <td>3</td>\n",
       "    </tr>\n",
       "    <tr>\n",
       "      <th>4</th>\n",
       "      <td>Stackridge -- Highbury Incident</td>\n",
       "      <td>4</td>\n",
       "    </tr>\n",
       "    <tr>\n",
       "      <th>...</th>\n",
       "      <td>...</td>\n",
       "      <td>...</td>\n",
       "    </tr>\n",
       "    <tr>\n",
       "      <th>265355</th>\n",
       "      <td>Tweaker -- Ruby</td>\n",
       "      <td>265355</td>\n",
       "    </tr>\n",
       "    <tr>\n",
       "      <th>265356</th>\n",
       "      <td>Butthole Surfers -- Intelligent Guy</td>\n",
       "      <td>265356</td>\n",
       "    </tr>\n",
       "    <tr>\n",
       "      <th>265357</th>\n",
       "      <td>Mallu Magalhães -- ô, Ana</td>\n",
       "      <td>265357</td>\n",
       "    </tr>\n",
       "    <tr>\n",
       "      <th>265358</th>\n",
       "      <td>Sheryl Crow -- Real Gone</td>\n",
       "      <td>265358</td>\n",
       "    </tr>\n",
       "    <tr>\n",
       "      <th>265359</th>\n",
       "      <td>Bing Crosby -- It's Beginning to Look Li</td>\n",
       "      <td>265359</td>\n",
       "    </tr>\n",
       "  </tbody>\n",
       "</table>\n",
       "<p>265360 rows × 2 columns</p>\n",
       "</div>"
      ],
      "text/plain": [
       "                                       song_name  song_id\n",
       "0                    Stackridge -- The Volunteer        0\n",
       "1                       Sparks -- Here In Heaven        1\n",
       "2             Stackridge -- Spin Around The Room        2\n",
       "3                Stackridge -- Happy in the Lord        3\n",
       "4                Stackridge -- Highbury Incident        4\n",
       "...                                          ...      ...\n",
       "265355                           Tweaker -- Ruby   265355\n",
       "265356       Butthole Surfers -- Intelligent Guy   265356\n",
       "265357                 Mallu Magalhães -- ô, Ana   265357\n",
       "265358                  Sheryl Crow -- Real Gone   265358\n",
       "265359  Bing Crosby -- It's Beginning to Look Li   265359\n",
       "\n",
       "[265360 rows x 2 columns]"
      ]
     },
     "execution_count": 56,
     "metadata": {},
     "output_type": "execute_result"
    }
   ],
   "source": [
    "song_index = pd.DataFrame(columns = ['song_name'], data = pd.unique(udf['song_name']))\n",
    "song_index['song_id'] = song_index.index\n",
    "song_index"
   ]
  },
  {
   "cell_type": "code",
   "execution_count": 57,
   "id": "5fa1d847",
   "metadata": {},
   "outputs": [],
   "source": [
    "song_index.to_csv('s_index.csv', index=False)"
   ]
  },
  {
   "cell_type": "code",
   "execution_count": 58,
   "id": "1d931b3b",
   "metadata": {},
   "outputs": [
    {
     "data": {
      "text/html": [
       "<div>\n",
       "<style scoped>\n",
       "    .dataframe tbody tr th:only-of-type {\n",
       "        vertical-align: middle;\n",
       "    }\n",
       "\n",
       "    .dataframe tbody tr th {\n",
       "        vertical-align: top;\n",
       "    }\n",
       "\n",
       "    .dataframe thead th {\n",
       "        text-align: right;\n",
       "    }\n",
       "</style>\n",
       "<table border=\"1\" class=\"dataframe\">\n",
       "  <thead>\n",
       "    <tr style=\"text-align: right;\">\n",
       "      <th></th>\n",
       "      <th>artist</th>\n",
       "      <th>artist_id</th>\n",
       "    </tr>\n",
       "  </thead>\n",
       "  <tbody>\n",
       "    <tr>\n",
       "      <th>0</th>\n",
       "      <td>Stackridge</td>\n",
       "      <td>0</td>\n",
       "    </tr>\n",
       "    <tr>\n",
       "      <th>1</th>\n",
       "      <td>Sparks</td>\n",
       "      <td>1</td>\n",
       "    </tr>\n",
       "    <tr>\n",
       "      <th>2</th>\n",
       "      <td>That Fucking Tank</td>\n",
       "      <td>2</td>\n",
       "    </tr>\n",
       "    <tr>\n",
       "      <th>3</th>\n",
       "      <td>Porcupine Tree</td>\n",
       "      <td>3</td>\n",
       "    </tr>\n",
       "    <tr>\n",
       "      <th>4</th>\n",
       "      <td>Wild Beasts</td>\n",
       "      <td>4</td>\n",
       "    </tr>\n",
       "    <tr>\n",
       "      <th>...</th>\n",
       "      <td>...</td>\n",
       "      <td>...</td>\n",
       "    </tr>\n",
       "    <tr>\n",
       "      <th>62096</th>\n",
       "      <td>ליהי עטר</td>\n",
       "      <td>62096</td>\n",
       "    </tr>\n",
       "    <tr>\n",
       "      <th>62097</th>\n",
       "      <td>Ôëŕézzzŕ</td>\n",
       "      <td>62097</td>\n",
       "    </tr>\n",
       "    <tr>\n",
       "      <th>62098</th>\n",
       "      <td>Kate Nash/Lethal Bizzle</td>\n",
       "      <td>62098</td>\n",
       "    </tr>\n",
       "    <tr>\n",
       "      <th>62099</th>\n",
       "      <td>KaaK</td>\n",
       "      <td>62099</td>\n",
       "    </tr>\n",
       "    <tr>\n",
       "      <th>62100</th>\n",
       "      <td>Easy</td>\n",
       "      <td>62100</td>\n",
       "    </tr>\n",
       "  </tbody>\n",
       "</table>\n",
       "<p>62101 rows × 2 columns</p>\n",
       "</div>"
      ],
      "text/plain": [
       "                        artist  artist_id\n",
       "0                   Stackridge          0\n",
       "1                       Sparks          1\n",
       "2            That Fucking Tank          2\n",
       "3               Porcupine Tree          3\n",
       "4                  Wild Beasts          4\n",
       "...                        ...        ...\n",
       "62096                 ליהי עטר      62096\n",
       "62097                 Ôëŕézzzŕ      62097\n",
       "62098  Kate Nash/Lethal Bizzle      62098\n",
       "62099                     KaaK      62099\n",
       "62100                     Easy      62100\n",
       "\n",
       "[62101 rows x 2 columns]"
      ]
     },
     "execution_count": 58,
     "metadata": {},
     "output_type": "execute_result"
    }
   ],
   "source": [
    "art_index = pd.DataFrame(columns = ['artist'], data = pd.unique(udf['artist']))\n",
    "art_index['artist_id'] = art_index.index\n",
    "art_index"
   ]
  },
  {
   "cell_type": "code",
   "execution_count": 59,
   "id": "da1b2842",
   "metadata": {},
   "outputs": [],
   "source": [
    "art_index.to_csv('a_index.csv', index=False)"
   ]
  },
  {
   "cell_type": "code",
   "execution_count": 152,
   "id": "67f006de",
   "metadata": {},
   "outputs": [],
   "source": [
    "udf.to_csv('user-songs.csv', index=False)"
   ]
  },
  {
   "cell_type": "code",
   "execution_count": 153,
   "id": "1938f066",
   "metadata": {},
   "outputs": [],
   "source": [
    "df_user = udf.merge(user_index, how='inner', left_on='login', right_on='login')\n",
    "df_user_song = df_user.merge(song_index, how='inner', left_on='song_name', right_on='song_name')\n",
    "df_user_song_art = df_user_song.merge(art_index, how='inner', left_on='artist', right_on='artist')"
   ]
  },
  {
   "cell_type": "code",
   "execution_count": 155,
   "id": "2f6e8681",
   "metadata": {},
   "outputs": [],
   "source": [
    "pdf = df_user_song_art[['rating', 'user_id', 'song_id', 'artist_id']]"
   ]
  },
  {
   "cell_type": "code",
   "execution_count": 156,
   "id": "40fb3dc5",
   "metadata": {},
   "outputs": [],
   "source": [
    "pdf.to_csv('pivot_df.csv', index=False)"
   ]
  },
  {
   "cell_type": "code",
   "execution_count": 1,
   "id": "25e3ee48",
   "metadata": {},
   "outputs": [],
   "source": [
    "import pandas as pd"
   ]
  },
  {
   "cell_type": "code",
   "execution_count": 7,
   "id": "2ff09eac",
   "metadata": {},
   "outputs": [],
   "source": [
    "pdf = pd.read_csv('pivot_df.csv')"
   ]
  },
  {
   "cell_type": "markdown",
   "id": "9a2eccb2",
   "metadata": {},
   "source": [
    "Вся таблица с оценками приведена к следующему виду :"
   ]
  },
  {
   "cell_type": "code",
   "execution_count": 3,
   "id": "dea10bd1",
   "metadata": {},
   "outputs": [
    {
     "data": {
      "text/html": [
       "<div>\n",
       "<style scoped>\n",
       "    .dataframe tbody tr th:only-of-type {\n",
       "        vertical-align: middle;\n",
       "    }\n",
       "\n",
       "    .dataframe tbody tr th {\n",
       "        vertical-align: top;\n",
       "    }\n",
       "\n",
       "    .dataframe thead th {\n",
       "        text-align: right;\n",
       "    }\n",
       "</style>\n",
       "<table border=\"1\" class=\"dataframe\">\n",
       "  <thead>\n",
       "    <tr style=\"text-align: right;\">\n",
       "      <th></th>\n",
       "      <th>rating</th>\n",
       "      <th>user_id</th>\n",
       "      <th>song_id</th>\n",
       "      <th>artist_id</th>\n",
       "    </tr>\n",
       "  </thead>\n",
       "  <tbody>\n",
       "    <tr>\n",
       "      <th>0</th>\n",
       "      <td>1.00</td>\n",
       "      <td>0</td>\n",
       "      <td>0</td>\n",
       "      <td>0</td>\n",
       "    </tr>\n",
       "    <tr>\n",
       "      <th>1</th>\n",
       "      <td>0.98</td>\n",
       "      <td>0</td>\n",
       "      <td>2</td>\n",
       "      <td>0</td>\n",
       "    </tr>\n",
       "    <tr>\n",
       "      <th>2</th>\n",
       "      <td>0.97</td>\n",
       "      <td>0</td>\n",
       "      <td>3</td>\n",
       "      <td>0</td>\n",
       "    </tr>\n",
       "    <tr>\n",
       "      <th>3</th>\n",
       "      <td>0.96</td>\n",
       "      <td>0</td>\n",
       "      <td>4</td>\n",
       "      <td>0</td>\n",
       "    </tr>\n",
       "    <tr>\n",
       "      <th>4</th>\n",
       "      <td>0.94</td>\n",
       "      <td>0</td>\n",
       "      <td>6</td>\n",
       "      <td>0</td>\n",
       "    </tr>\n",
       "    <tr>\n",
       "      <th>...</th>\n",
       "      <td>...</td>\n",
       "      <td>...</td>\n",
       "      <td>...</td>\n",
       "      <td>...</td>\n",
       "    </tr>\n",
       "    <tr>\n",
       "      <th>493695</th>\n",
       "      <td>0.66</td>\n",
       "      <td>9873</td>\n",
       "      <td>244462</td>\n",
       "      <td>58687</td>\n",
       "    </tr>\n",
       "    <tr>\n",
       "      <th>493696</th>\n",
       "      <td>0.62</td>\n",
       "      <td>9873</td>\n",
       "      <td>244463</td>\n",
       "      <td>58688</td>\n",
       "    </tr>\n",
       "    <tr>\n",
       "      <th>493697</th>\n",
       "      <td>0.60</td>\n",
       "      <td>9873</td>\n",
       "      <td>244464</td>\n",
       "      <td>58689</td>\n",
       "    </tr>\n",
       "    <tr>\n",
       "      <th>493698</th>\n",
       "      <td>0.59</td>\n",
       "      <td>9873</td>\n",
       "      <td>244465</td>\n",
       "      <td>58690</td>\n",
       "    </tr>\n",
       "    <tr>\n",
       "      <th>493699</th>\n",
       "      <td>0.55</td>\n",
       "      <td>9873</td>\n",
       "      <td>244466</td>\n",
       "      <td>58691</td>\n",
       "    </tr>\n",
       "  </tbody>\n",
       "</table>\n",
       "<p>493700 rows × 4 columns</p>\n",
       "</div>"
      ],
      "text/plain": [
       "        rating  user_id  song_id  artist_id\n",
       "0         1.00        0        0          0\n",
       "1         0.98        0        2          0\n",
       "2         0.97        0        3          0\n",
       "3         0.96        0        4          0\n",
       "4         0.94        0        6          0\n",
       "...        ...      ...      ...        ...\n",
       "493695    0.66     9873   244462      58687\n",
       "493696    0.62     9873   244463      58688\n",
       "493697    0.60     9873   244464      58689\n",
       "493698    0.59     9873   244465      58690\n",
       "493699    0.55     9873   244466      58691\n",
       "\n",
       "[493700 rows x 4 columns]"
      ]
     },
     "execution_count": 3,
     "metadata": {},
     "output_type": "execute_result"
    }
   ],
   "source": [
    "pdf"
   ]
  },
  {
   "cell_type": "code",
   "execution_count": 4,
   "id": "36455334",
   "metadata": {},
   "outputs": [],
   "source": [
    "p = pdf.loc[pdf.user_id < 4000].reset_index(drop=True)"
   ]
  },
  {
   "cell_type": "code",
   "execution_count": 5,
   "id": "c99f07a0",
   "metadata": {},
   "outputs": [],
   "source": [
    "pivot_table = p.pivot_table(values='rating', index='user_id', columns='song_id')"
   ]
  },
  {
   "cell_type": "code",
   "execution_count": 6,
   "id": "a192eb42",
   "metadata": {},
   "outputs": [
    {
     "data": {
      "text/html": [
       "<div>\n",
       "<style scoped>\n",
       "    .dataframe tbody tr th:only-of-type {\n",
       "        vertical-align: middle;\n",
       "    }\n",
       "\n",
       "    .dataframe tbody tr th {\n",
       "        vertical-align: top;\n",
       "    }\n",
       "\n",
       "    .dataframe thead th {\n",
       "        text-align: right;\n",
       "    }\n",
       "</style>\n",
       "<table border=\"1\" class=\"dataframe\">\n",
       "  <thead>\n",
       "    <tr style=\"text-align: right;\">\n",
       "      <th>song_id</th>\n",
       "      <th>0</th>\n",
       "      <th>1</th>\n",
       "      <th>2</th>\n",
       "      <th>3</th>\n",
       "      <th>4</th>\n",
       "      <th>5</th>\n",
       "      <th>6</th>\n",
       "      <th>7</th>\n",
       "      <th>8</th>\n",
       "      <th>9</th>\n",
       "      <th>...</th>\n",
       "      <th>252966</th>\n",
       "      <th>252967</th>\n",
       "      <th>252968</th>\n",
       "      <th>252969</th>\n",
       "      <th>252970</th>\n",
       "      <th>252971</th>\n",
       "      <th>252972</th>\n",
       "      <th>252973</th>\n",
       "      <th>252974</th>\n",
       "      <th>252975</th>\n",
       "    </tr>\n",
       "    <tr>\n",
       "      <th>user_id</th>\n",
       "      <th></th>\n",
       "      <th></th>\n",
       "      <th></th>\n",
       "      <th></th>\n",
       "      <th></th>\n",
       "      <th></th>\n",
       "      <th></th>\n",
       "      <th></th>\n",
       "      <th></th>\n",
       "      <th></th>\n",
       "      <th></th>\n",
       "      <th></th>\n",
       "      <th></th>\n",
       "      <th></th>\n",
       "      <th></th>\n",
       "      <th></th>\n",
       "      <th></th>\n",
       "      <th></th>\n",
       "      <th></th>\n",
       "      <th></th>\n",
       "      <th></th>\n",
       "    </tr>\n",
       "  </thead>\n",
       "  <tbody>\n",
       "    <tr>\n",
       "      <th>0</th>\n",
       "      <td>1.0</td>\n",
       "      <td>0.99</td>\n",
       "      <td>0.98</td>\n",
       "      <td>0.97</td>\n",
       "      <td>0.96</td>\n",
       "      <td>0.95</td>\n",
       "      <td>0.94</td>\n",
       "      <td>0.93</td>\n",
       "      <td>0.92</td>\n",
       "      <td>0.91</td>\n",
       "      <td>...</td>\n",
       "      <td>NaN</td>\n",
       "      <td>NaN</td>\n",
       "      <td>NaN</td>\n",
       "      <td>NaN</td>\n",
       "      <td>NaN</td>\n",
       "      <td>NaN</td>\n",
       "      <td>NaN</td>\n",
       "      <td>NaN</td>\n",
       "      <td>NaN</td>\n",
       "      <td>NaN</td>\n",
       "    </tr>\n",
       "    <tr>\n",
       "      <th>1</th>\n",
       "      <td>NaN</td>\n",
       "      <td>NaN</td>\n",
       "      <td>NaN</td>\n",
       "      <td>NaN</td>\n",
       "      <td>NaN</td>\n",
       "      <td>NaN</td>\n",
       "      <td>NaN</td>\n",
       "      <td>NaN</td>\n",
       "      <td>NaN</td>\n",
       "      <td>NaN</td>\n",
       "      <td>...</td>\n",
       "      <td>NaN</td>\n",
       "      <td>NaN</td>\n",
       "      <td>NaN</td>\n",
       "      <td>NaN</td>\n",
       "      <td>NaN</td>\n",
       "      <td>NaN</td>\n",
       "      <td>NaN</td>\n",
       "      <td>NaN</td>\n",
       "      <td>NaN</td>\n",
       "      <td>NaN</td>\n",
       "    </tr>\n",
       "    <tr>\n",
       "      <th>2</th>\n",
       "      <td>NaN</td>\n",
       "      <td>NaN</td>\n",
       "      <td>NaN</td>\n",
       "      <td>NaN</td>\n",
       "      <td>NaN</td>\n",
       "      <td>NaN</td>\n",
       "      <td>NaN</td>\n",
       "      <td>NaN</td>\n",
       "      <td>NaN</td>\n",
       "      <td>NaN</td>\n",
       "      <td>...</td>\n",
       "      <td>NaN</td>\n",
       "      <td>NaN</td>\n",
       "      <td>NaN</td>\n",
       "      <td>NaN</td>\n",
       "      <td>NaN</td>\n",
       "      <td>NaN</td>\n",
       "      <td>NaN</td>\n",
       "      <td>NaN</td>\n",
       "      <td>NaN</td>\n",
       "      <td>NaN</td>\n",
       "    </tr>\n",
       "    <tr>\n",
       "      <th>3</th>\n",
       "      <td>NaN</td>\n",
       "      <td>NaN</td>\n",
       "      <td>NaN</td>\n",
       "      <td>NaN</td>\n",
       "      <td>NaN</td>\n",
       "      <td>NaN</td>\n",
       "      <td>NaN</td>\n",
       "      <td>NaN</td>\n",
       "      <td>NaN</td>\n",
       "      <td>NaN</td>\n",
       "      <td>...</td>\n",
       "      <td>NaN</td>\n",
       "      <td>NaN</td>\n",
       "      <td>NaN</td>\n",
       "      <td>NaN</td>\n",
       "      <td>NaN</td>\n",
       "      <td>NaN</td>\n",
       "      <td>NaN</td>\n",
       "      <td>NaN</td>\n",
       "      <td>NaN</td>\n",
       "      <td>NaN</td>\n",
       "    </tr>\n",
       "    <tr>\n",
       "      <th>4</th>\n",
       "      <td>NaN</td>\n",
       "      <td>NaN</td>\n",
       "      <td>NaN</td>\n",
       "      <td>NaN</td>\n",
       "      <td>NaN</td>\n",
       "      <td>NaN</td>\n",
       "      <td>NaN</td>\n",
       "      <td>NaN</td>\n",
       "      <td>NaN</td>\n",
       "      <td>NaN</td>\n",
       "      <td>...</td>\n",
       "      <td>NaN</td>\n",
       "      <td>NaN</td>\n",
       "      <td>NaN</td>\n",
       "      <td>NaN</td>\n",
       "      <td>NaN</td>\n",
       "      <td>NaN</td>\n",
       "      <td>NaN</td>\n",
       "      <td>NaN</td>\n",
       "      <td>NaN</td>\n",
       "      <td>NaN</td>\n",
       "    </tr>\n",
       "    <tr>\n",
       "      <th>...</th>\n",
       "      <td>...</td>\n",
       "      <td>...</td>\n",
       "      <td>...</td>\n",
       "      <td>...</td>\n",
       "      <td>...</td>\n",
       "      <td>...</td>\n",
       "      <td>...</td>\n",
       "      <td>...</td>\n",
       "      <td>...</td>\n",
       "      <td>...</td>\n",
       "      <td>...</td>\n",
       "      <td>...</td>\n",
       "      <td>...</td>\n",
       "      <td>...</td>\n",
       "      <td>...</td>\n",
       "      <td>...</td>\n",
       "      <td>...</td>\n",
       "      <td>...</td>\n",
       "      <td>...</td>\n",
       "      <td>...</td>\n",
       "      <td>...</td>\n",
       "    </tr>\n",
       "    <tr>\n",
       "      <th>3995</th>\n",
       "      <td>NaN</td>\n",
       "      <td>NaN</td>\n",
       "      <td>NaN</td>\n",
       "      <td>NaN</td>\n",
       "      <td>NaN</td>\n",
       "      <td>NaN</td>\n",
       "      <td>NaN</td>\n",
       "      <td>NaN</td>\n",
       "      <td>NaN</td>\n",
       "      <td>NaN</td>\n",
       "      <td>...</td>\n",
       "      <td>NaN</td>\n",
       "      <td>NaN</td>\n",
       "      <td>NaN</td>\n",
       "      <td>NaN</td>\n",
       "      <td>NaN</td>\n",
       "      <td>0.76</td>\n",
       "      <td>NaN</td>\n",
       "      <td>NaN</td>\n",
       "      <td>NaN</td>\n",
       "      <td>NaN</td>\n",
       "    </tr>\n",
       "    <tr>\n",
       "      <th>3996</th>\n",
       "      <td>NaN</td>\n",
       "      <td>NaN</td>\n",
       "      <td>NaN</td>\n",
       "      <td>NaN</td>\n",
       "      <td>NaN</td>\n",
       "      <td>NaN</td>\n",
       "      <td>NaN</td>\n",
       "      <td>NaN</td>\n",
       "      <td>NaN</td>\n",
       "      <td>NaN</td>\n",
       "      <td>...</td>\n",
       "      <td>NaN</td>\n",
       "      <td>NaN</td>\n",
       "      <td>NaN</td>\n",
       "      <td>NaN</td>\n",
       "      <td>NaN</td>\n",
       "      <td>NaN</td>\n",
       "      <td>NaN</td>\n",
       "      <td>NaN</td>\n",
       "      <td>NaN</td>\n",
       "      <td>NaN</td>\n",
       "    </tr>\n",
       "    <tr>\n",
       "      <th>3997</th>\n",
       "      <td>NaN</td>\n",
       "      <td>NaN</td>\n",
       "      <td>NaN</td>\n",
       "      <td>NaN</td>\n",
       "      <td>NaN</td>\n",
       "      <td>NaN</td>\n",
       "      <td>NaN</td>\n",
       "      <td>NaN</td>\n",
       "      <td>NaN</td>\n",
       "      <td>NaN</td>\n",
       "      <td>...</td>\n",
       "      <td>NaN</td>\n",
       "      <td>NaN</td>\n",
       "      <td>NaN</td>\n",
       "      <td>NaN</td>\n",
       "      <td>NaN</td>\n",
       "      <td>NaN</td>\n",
       "      <td>0.82</td>\n",
       "      <td>NaN</td>\n",
       "      <td>NaN</td>\n",
       "      <td>NaN</td>\n",
       "    </tr>\n",
       "    <tr>\n",
       "      <th>3998</th>\n",
       "      <td>NaN</td>\n",
       "      <td>NaN</td>\n",
       "      <td>NaN</td>\n",
       "      <td>NaN</td>\n",
       "      <td>NaN</td>\n",
       "      <td>NaN</td>\n",
       "      <td>NaN</td>\n",
       "      <td>NaN</td>\n",
       "      <td>NaN</td>\n",
       "      <td>NaN</td>\n",
       "      <td>...</td>\n",
       "      <td>NaN</td>\n",
       "      <td>NaN</td>\n",
       "      <td>NaN</td>\n",
       "      <td>NaN</td>\n",
       "      <td>NaN</td>\n",
       "      <td>NaN</td>\n",
       "      <td>NaN</td>\n",
       "      <td>0.79</td>\n",
       "      <td>0.66</td>\n",
       "      <td>0.84</td>\n",
       "    </tr>\n",
       "    <tr>\n",
       "      <th>3999</th>\n",
       "      <td>NaN</td>\n",
       "      <td>NaN</td>\n",
       "      <td>NaN</td>\n",
       "      <td>NaN</td>\n",
       "      <td>NaN</td>\n",
       "      <td>NaN</td>\n",
       "      <td>NaN</td>\n",
       "      <td>NaN</td>\n",
       "      <td>NaN</td>\n",
       "      <td>NaN</td>\n",
       "      <td>...</td>\n",
       "      <td>NaN</td>\n",
       "      <td>NaN</td>\n",
       "      <td>NaN</td>\n",
       "      <td>NaN</td>\n",
       "      <td>NaN</td>\n",
       "      <td>NaN</td>\n",
       "      <td>NaN</td>\n",
       "      <td>NaN</td>\n",
       "      <td>NaN</td>\n",
       "      <td>NaN</td>\n",
       "    </tr>\n",
       "  </tbody>\n",
       "</table>\n",
       "<p>4000 rows × 129879 columns</p>\n",
       "</div>"
      ],
      "text/plain": [
       "song_id  0       1       2       3       4       5       6       7       \\\n",
       "user_id                                                                   \n",
       "0           1.0    0.99    0.98    0.97    0.96    0.95    0.94    0.93   \n",
       "1           NaN     NaN     NaN     NaN     NaN     NaN     NaN     NaN   \n",
       "2           NaN     NaN     NaN     NaN     NaN     NaN     NaN     NaN   \n",
       "3           NaN     NaN     NaN     NaN     NaN     NaN     NaN     NaN   \n",
       "4           NaN     NaN     NaN     NaN     NaN     NaN     NaN     NaN   \n",
       "...         ...     ...     ...     ...     ...     ...     ...     ...   \n",
       "3995        NaN     NaN     NaN     NaN     NaN     NaN     NaN     NaN   \n",
       "3996        NaN     NaN     NaN     NaN     NaN     NaN     NaN     NaN   \n",
       "3997        NaN     NaN     NaN     NaN     NaN     NaN     NaN     NaN   \n",
       "3998        NaN     NaN     NaN     NaN     NaN     NaN     NaN     NaN   \n",
       "3999        NaN     NaN     NaN     NaN     NaN     NaN     NaN     NaN   \n",
       "\n",
       "song_id  8       9       ...  252966  252967  252968  252969  252970  252971  \\\n",
       "user_id                  ...                                                   \n",
       "0          0.92    0.91  ...     NaN     NaN     NaN     NaN     NaN     NaN   \n",
       "1           NaN     NaN  ...     NaN     NaN     NaN     NaN     NaN     NaN   \n",
       "2           NaN     NaN  ...     NaN     NaN     NaN     NaN     NaN     NaN   \n",
       "3           NaN     NaN  ...     NaN     NaN     NaN     NaN     NaN     NaN   \n",
       "4           NaN     NaN  ...     NaN     NaN     NaN     NaN     NaN     NaN   \n",
       "...         ...     ...  ...     ...     ...     ...     ...     ...     ...   \n",
       "3995        NaN     NaN  ...     NaN     NaN     NaN     NaN     NaN    0.76   \n",
       "3996        NaN     NaN  ...     NaN     NaN     NaN     NaN     NaN     NaN   \n",
       "3997        NaN     NaN  ...     NaN     NaN     NaN     NaN     NaN     NaN   \n",
       "3998        NaN     NaN  ...     NaN     NaN     NaN     NaN     NaN     NaN   \n",
       "3999        NaN     NaN  ...     NaN     NaN     NaN     NaN     NaN     NaN   \n",
       "\n",
       "song_id  252972  252973  252974  252975  \n",
       "user_id                                  \n",
       "0           NaN     NaN     NaN     NaN  \n",
       "1           NaN     NaN     NaN     NaN  \n",
       "2           NaN     NaN     NaN     NaN  \n",
       "3           NaN     NaN     NaN     NaN  \n",
       "4           NaN     NaN     NaN     NaN  \n",
       "...         ...     ...     ...     ...  \n",
       "3995        NaN     NaN     NaN     NaN  \n",
       "3996        NaN     NaN     NaN     NaN  \n",
       "3997       0.82     NaN     NaN     NaN  \n",
       "3998        NaN    0.79    0.66    0.84  \n",
       "3999        NaN     NaN     NaN     NaN  \n",
       "\n",
       "[4000 rows x 129879 columns]"
      ]
     },
     "execution_count": 6,
     "metadata": {},
     "output_type": "execute_result"
    }
   ],
   "source": [
    "pivot_table"
   ]
  },
  {
   "cell_type": "code",
   "execution_count": 7,
   "id": "1680d273",
   "metadata": {},
   "outputs": [],
   "source": [
    "pivot_table.to_csv('pivot_song.csv', index=False)"
   ]
  },
  {
   "cell_type": "markdown",
   "id": "9e7b207a",
   "metadata": {},
   "source": [
    "### Реализуем два item-based подхода :\n",
    "####    1. Popularity Based Filtering"
   ]
  },
  {
   "cell_type": "markdown",
   "id": "ee01b82f",
   "metadata": {},
   "source": [
    "Используем формулу взвешенного среднего (WR)=[vR/(v+m)]+[mC/(v+m)]"
   ]
  },
  {
   "cell_type": "markdown",
   "id": "0ec43371",
   "metadata": {},
   "source": [
    "v - количество оценок песни\n",
    "m - необходимый минимум оценок для включения в список\n",
    "R - средний рейтинг песни\n",
    "C - среднее по всему списку оценок"
   ]
  },
  {
   "cell_type": "code",
   "execution_count": 17,
   "id": "c1685aa7",
   "metadata": {},
   "outputs": [
    {
     "data": {
      "text/plain": [
       "0.7550000000000097"
      ]
     },
     "execution_count": 17,
     "metadata": {},
     "output_type": "execute_result"
    }
   ],
   "source": [
    "C = pdf['rating'].mean()\n",
    "C"
   ]
  },
  {
   "cell_type": "code",
   "execution_count": 18,
   "id": "305d33c0",
   "metadata": {},
   "outputs": [
    {
     "data": {
      "text/plain": [
       "5.0"
      ]
     },
     "execution_count": 18,
     "metadata": {},
     "output_type": "execute_result"
    }
   ],
   "source": [
    "m = pd.Series(pdf.song_id.value_counts().values).quantile(0.95)\n",
    "m"
   ]
  },
  {
   "cell_type": "code",
   "execution_count": 27,
   "id": "a363d28d",
   "metadata": {},
   "outputs": [
    {
     "name": "stdout",
     "output_type": "stream",
     "text": [
      "15029\n"
     ]
    }
   ],
   "source": [
    "dct = dict(pdf.song_id.value_counts())\n",
    "wdict = {} # словарь песен и количества оценок\n",
    "for k in dct:\n",
    "    if dct[k] >= 5:\n",
    "        wdict[k] = dct[k]\n",
    "print(len(wdict))"
   ]
  },
  {
   "cell_type": "markdown",
   "id": "074f978d",
   "metadata": {},
   "source": [
    "Нашу оценку получит 15029 песен"
   ]
  },
  {
   "cell_type": "code",
   "execution_count": 28,
   "id": "1bbbaea2",
   "metadata": {},
   "outputs": [
    {
     "name": "stdout",
     "output_type": "stream",
     "text": [
      "15029\n"
     ]
    }
   ],
   "source": [
    "edict = dict() # словарь средних оценок\n",
    "for k in wdict:\n",
    "    edict[k] = round(pdf.loc[pdf.song_id == k]['rating'].mean(), 3)\n",
    "print(len(edict))"
   ]
  },
  {
   "cell_type": "markdown",
   "id": "8d5883fe",
   "metadata": {},
   "source": [
    "#### Создадим фрейм взвешенных оценок"
   ]
  },
  {
   "cell_type": "code",
   "execution_count": 47,
   "id": "d7c35fab",
   "metadata": {},
   "outputs": [],
   "source": [
    "def calc_weighted_rating(v, R, m, C):\n",
    "    return (v/(v+m) * R) + (m/(m+v) * C)"
   ]
  },
  {
   "cell_type": "markdown",
   "id": "e04f20fc",
   "metadata": {},
   "source": [
    "Загрузим словарь расшифровки artist - song"
   ]
  },
  {
   "cell_type": "code",
   "execution_count": 42,
   "id": "a90817e2",
   "metadata": {},
   "outputs": [],
   "source": [
    "sname = pd.read_csv('s_index.csv')"
   ]
  },
  {
   "cell_type": "code",
   "execution_count": 43,
   "id": "d45ce948",
   "metadata": {},
   "outputs": [
    {
     "data": {
      "text/html": [
       "<div>\n",
       "<style scoped>\n",
       "    .dataframe tbody tr th:only-of-type {\n",
       "        vertical-align: middle;\n",
       "    }\n",
       "\n",
       "    .dataframe tbody tr th {\n",
       "        vertical-align: top;\n",
       "    }\n",
       "\n",
       "    .dataframe thead th {\n",
       "        text-align: right;\n",
       "    }\n",
       "</style>\n",
       "<table border=\"1\" class=\"dataframe\">\n",
       "  <thead>\n",
       "    <tr style=\"text-align: right;\">\n",
       "      <th></th>\n",
       "      <th>song_name</th>\n",
       "      <th>song_id</th>\n",
       "    </tr>\n",
       "  </thead>\n",
       "  <tbody>\n",
       "    <tr>\n",
       "      <th>0</th>\n",
       "      <td>Stackridge -- The Volunteer</td>\n",
       "      <td>0</td>\n",
       "    </tr>\n",
       "    <tr>\n",
       "      <th>1</th>\n",
       "      <td>Sparks -- Here In Heaven</td>\n",
       "      <td>1</td>\n",
       "    </tr>\n",
       "    <tr>\n",
       "      <th>2</th>\n",
       "      <td>Stackridge -- Spin Around The Room</td>\n",
       "      <td>2</td>\n",
       "    </tr>\n",
       "    <tr>\n",
       "      <th>3</th>\n",
       "      <td>Stackridge -- Happy in the Lord</td>\n",
       "      <td>3</td>\n",
       "    </tr>\n",
       "    <tr>\n",
       "      <th>4</th>\n",
       "      <td>Stackridge -- Highbury Incident</td>\n",
       "      <td>4</td>\n",
       "    </tr>\n",
       "    <tr>\n",
       "      <th>...</th>\n",
       "      <td>...</td>\n",
       "      <td>...</td>\n",
       "    </tr>\n",
       "    <tr>\n",
       "      <th>265355</th>\n",
       "      <td>Tweaker -- Ruby</td>\n",
       "      <td>265355</td>\n",
       "    </tr>\n",
       "    <tr>\n",
       "      <th>265356</th>\n",
       "      <td>Butthole Surfers -- Intelligent Guy</td>\n",
       "      <td>265356</td>\n",
       "    </tr>\n",
       "    <tr>\n",
       "      <th>265357</th>\n",
       "      <td>Mallu Magalhães -- ô, Ana</td>\n",
       "      <td>265357</td>\n",
       "    </tr>\n",
       "    <tr>\n",
       "      <th>265358</th>\n",
       "      <td>Sheryl Crow -- Real Gone</td>\n",
       "      <td>265358</td>\n",
       "    </tr>\n",
       "    <tr>\n",
       "      <th>265359</th>\n",
       "      <td>Bing Crosby -- It's Beginning to Look Li</td>\n",
       "      <td>265359</td>\n",
       "    </tr>\n",
       "  </tbody>\n",
       "</table>\n",
       "<p>265360 rows × 2 columns</p>\n",
       "</div>"
      ],
      "text/plain": [
       "                                       song_name  song_id\n",
       "0                    Stackridge -- The Volunteer        0\n",
       "1                       Sparks -- Here In Heaven        1\n",
       "2             Stackridge -- Spin Around The Room        2\n",
       "3                Stackridge -- Happy in the Lord        3\n",
       "4                Stackridge -- Highbury Incident        4\n",
       "...                                          ...      ...\n",
       "265355                           Tweaker -- Ruby   265355\n",
       "265356       Butthole Surfers -- Intelligent Guy   265356\n",
       "265357                 Mallu Magalhães -- ô, Ana   265357\n",
       "265358                  Sheryl Crow -- Real Gone   265358\n",
       "265359  Bing Crosby -- It's Beginning to Look Li   265359\n",
       "\n",
       "[265360 rows x 2 columns]"
      ]
     },
     "execution_count": 43,
     "metadata": {},
     "output_type": "execute_result"
    }
   ],
   "source": [
    "sname"
   ]
  },
  {
   "cell_type": "code",
   "execution_count": 45,
   "id": "eb33c902",
   "metadata": {},
   "outputs": [
    {
     "data": {
      "text/plain": [
       "'Stackridge -- The Volunteer'"
      ]
     },
     "execution_count": 45,
     "metadata": {},
     "output_type": "execute_result"
    }
   ],
   "source": [
    "sname.to_dict()['song_name'][0]"
   ]
  },
  {
   "cell_type": "code",
   "execution_count": 54,
   "id": "85666cb5",
   "metadata": {},
   "outputs": [
    {
     "name": "stderr",
     "output_type": "stream",
     "text": [
      "100%|████████████████████████████████████████████████████████████████████████████| 15029/15029 [23:25<00:00, 10.70it/s]\n"
     ]
    },
    {
     "data": {
      "text/html": [
       "<div>\n",
       "<style scoped>\n",
       "    .dataframe tbody tr th:only-of-type {\n",
       "        vertical-align: middle;\n",
       "    }\n",
       "\n",
       "    .dataframe tbody tr th {\n",
       "        vertical-align: top;\n",
       "    }\n",
       "\n",
       "    .dataframe thead th {\n",
       "        text-align: right;\n",
       "    }\n",
       "</style>\n",
       "<table border=\"1\" class=\"dataframe\">\n",
       "  <thead>\n",
       "    <tr style=\"text-align: right;\">\n",
       "      <th></th>\n",
       "      <th>song_id</th>\n",
       "      <th>song_artist</th>\n",
       "      <th>score</th>\n",
       "    </tr>\n",
       "  </thead>\n",
       "  <tbody>\n",
       "    <tr>\n",
       "      <th>0</th>\n",
       "      <td>5044</td>\n",
       "      <td>Bon Iver -- Skinny Love</td>\n",
       "      <td>0.795235</td>\n",
       "    </tr>\n",
       "    <tr>\n",
       "      <th>1</th>\n",
       "      <td>630</td>\n",
       "      <td>Burial -- Archangel</td>\n",
       "      <td>0.794219</td>\n",
       "    </tr>\n",
       "    <tr>\n",
       "      <th>2</th>\n",
       "      <td>3437</td>\n",
       "      <td>Joy Division -- Love Will Tear Us Apart</td>\n",
       "      <td>0.778500</td>\n",
       "    </tr>\n",
       "    <tr>\n",
       "      <th>3</th>\n",
       "      <td>3411</td>\n",
       "      <td>The xx -- Crystalised</td>\n",
       "      <td>0.759886</td>\n",
       "    </tr>\n",
       "    <tr>\n",
       "      <th>4</th>\n",
       "      <td>796</td>\n",
       "      <td>Radiohead -- Reckoner</td>\n",
       "      <td>0.796981</td>\n",
       "    </tr>\n",
       "    <tr>\n",
       "      <th>...</th>\n",
       "      <td>...</td>\n",
       "      <td>...</td>\n",
       "      <td>...</td>\n",
       "    </tr>\n",
       "    <tr>\n",
       "      <th>15024</th>\n",
       "      <td>3714</td>\n",
       "      <td>Alice in Chains -- Junkhead</td>\n",
       "      <td>0.727500</td>\n",
       "    </tr>\n",
       "    <tr>\n",
       "      <th>15025</th>\n",
       "      <td>69165</td>\n",
       "      <td>Pet Shop Boys -- Being Boring</td>\n",
       "      <td>0.762500</td>\n",
       "    </tr>\n",
       "    <tr>\n",
       "      <th>15026</th>\n",
       "      <td>101997</td>\n",
       "      <td>Purity Ring -- bodyache</td>\n",
       "      <td>0.762500</td>\n",
       "    </tr>\n",
       "    <tr>\n",
       "      <th>15027</th>\n",
       "      <td>61885</td>\n",
       "      <td>Pantera -- I'm Broken</td>\n",
       "      <td>0.717500</td>\n",
       "    </tr>\n",
       "    <tr>\n",
       "      <th>15028</th>\n",
       "      <td>67799</td>\n",
       "      <td>Talking Heads -- Road to Nowhere</td>\n",
       "      <td>0.755500</td>\n",
       "    </tr>\n",
       "  </tbody>\n",
       "</table>\n",
       "<p>15029 rows × 3 columns</p>\n",
       "</div>"
      ],
      "text/plain": [
       "      song_id                              song_artist     score\n",
       "0        5044                  Bon Iver -- Skinny Love  0.795235\n",
       "1         630                      Burial -- Archangel  0.794219\n",
       "2        3437  Joy Division -- Love Will Tear Us Apart  0.778500\n",
       "3        3411                    The xx -- Crystalised  0.759886\n",
       "4         796                    Radiohead -- Reckoner  0.796981\n",
       "...       ...                                      ...       ...\n",
       "15024    3714              Alice in Chains -- Junkhead  0.727500\n",
       "15025   69165            Pet Shop Boys -- Being Boring  0.762500\n",
       "15026  101997                  Purity Ring -- bodyache  0.762500\n",
       "15027   61885                    Pantera -- I'm Broken  0.717500\n",
       "15028   67799         Talking Heads -- Road to Nowhere  0.755500\n",
       "\n",
       "[15029 rows x 3 columns]"
      ]
     },
     "execution_count": 54,
     "metadata": {},
     "output_type": "execute_result"
    }
   ],
   "source": [
    "wr = pd.DataFrame(columns = ['song_id', 'song_artist', 'score'])\n",
    "for s in tqdm.tqdm(edict):\n",
    "    score = calc_weighted_rating(wdict[s], edict[s], m, C)\n",
    "    song_artist = sname.to_dict()['song_name'][s]\n",
    "    wr.loc[len(wr)] = [s, song_artist, score]\n",
    "wr"
   ]
  },
  {
   "cell_type": "code",
   "execution_count": 56,
   "id": "a492028e",
   "metadata": {},
   "outputs": [
    {
     "data": {
      "text/html": [
       "<div>\n",
       "<style scoped>\n",
       "    .dataframe tbody tr th:only-of-type {\n",
       "        vertical-align: middle;\n",
       "    }\n",
       "\n",
       "    .dataframe tbody tr th {\n",
       "        vertical-align: top;\n",
       "    }\n",
       "\n",
       "    .dataframe thead th {\n",
       "        text-align: right;\n",
       "    }\n",
       "</style>\n",
       "<table border=\"1\" class=\"dataframe\">\n",
       "  <thead>\n",
       "    <tr style=\"text-align: right;\">\n",
       "      <th></th>\n",
       "      <th>song_id</th>\n",
       "      <th>song_artist</th>\n",
       "      <th>score</th>\n",
       "    </tr>\n",
       "  </thead>\n",
       "  <tbody>\n",
       "    <tr>\n",
       "      <th>528</th>\n",
       "      <td>4238</td>\n",
       "      <td>The Moon Lay Hidden Beneath a Cloud -- U</td>\n",
       "      <td>0.917605</td>\n",
       "    </tr>\n",
       "    <tr>\n",
       "      <th>3415</th>\n",
       "      <td>19769</td>\n",
       "      <td>I Waiting For You Last Summer -- Nevermo</td>\n",
       "      <td>0.908833</td>\n",
       "    </tr>\n",
       "    <tr>\n",
       "      <th>2760</th>\n",
       "      <td>19771</td>\n",
       "      <td>I Waiting For You Last Summer -- And not</td>\n",
       "      <td>0.899750</td>\n",
       "    </tr>\n",
       "    <tr>\n",
       "      <th>612</th>\n",
       "      <td>4239</td>\n",
       "      <td>Der Blutharsch -- Untitled</td>\n",
       "      <td>0.898500</td>\n",
       "    </tr>\n",
       "    <tr>\n",
       "      <th>856</th>\n",
       "      <td>452</td>\n",
       "      <td>William Basinski -- Untitled</td>\n",
       "      <td>0.898294</td>\n",
       "    </tr>\n",
       "    <tr>\n",
       "      <th>2568</th>\n",
       "      <td>15877</td>\n",
       "      <td>I Waiting For You Last Summer -- Sleep</td>\n",
       "      <td>0.897500</td>\n",
       "    </tr>\n",
       "    <tr>\n",
       "      <th>5661</th>\n",
       "      <td>9358</td>\n",
       "      <td>Avril Lavigne -- Hello Kitty</td>\n",
       "      <td>0.893857</td>\n",
       "    </tr>\n",
       "    <tr>\n",
       "      <th>3211</th>\n",
       "      <td>687</td>\n",
       "      <td>Teebs -- Untitled</td>\n",
       "      <td>0.893667</td>\n",
       "    </tr>\n",
       "    <tr>\n",
       "      <th>3178</th>\n",
       "      <td>15876</td>\n",
       "      <td>I Waiting For You Last Summer -- Event h</td>\n",
       "      <td>0.887889</td>\n",
       "    </tr>\n",
       "    <tr>\n",
       "      <th>1669</th>\n",
       "      <td>1301</td>\n",
       "      <td>Gas -- [untitled]</td>\n",
       "      <td>0.887000</td>\n",
       "    </tr>\n",
       "    <tr>\n",
       "      <th>3605</th>\n",
       "      <td>15874</td>\n",
       "      <td>I Waiting For You Last Summer -- Medley</td>\n",
       "      <td>0.885000</td>\n",
       "    </tr>\n",
       "    <tr>\n",
       "      <th>3412</th>\n",
       "      <td>15879</td>\n",
       "      <td>I Waiting For You Last Summer -- Gu</td>\n",
       "      <td>0.885000</td>\n",
       "    </tr>\n",
       "    <tr>\n",
       "      <th>6398</th>\n",
       "      <td>208923</td>\n",
       "      <td>Franz Schubert Quartet -- Mozart: String</td>\n",
       "      <td>0.884231</td>\n",
       "    </tr>\n",
       "    <tr>\n",
       "      <th>8165</th>\n",
       "      <td>28314</td>\n",
       "      <td>Amenra -- A Solitary Reign</td>\n",
       "      <td>0.879833</td>\n",
       "    </tr>\n",
       "    <tr>\n",
       "      <th>11247</th>\n",
       "      <td>5850</td>\n",
       "      <td>Taylor Swift -- Crazier</td>\n",
       "      <td>0.879364</td>\n",
       "    </tr>\n",
       "    <tr>\n",
       "      <th>10239</th>\n",
       "      <td>1559</td>\n",
       "      <td>The Author -- The Title</td>\n",
       "      <td>0.878818</td>\n",
       "    </tr>\n",
       "    <tr>\n",
       "      <th>7315</th>\n",
       "      <td>49891</td>\n",
       "      <td>Hal Leonard -- Rock/Blues Rhythm - Even</td>\n",
       "      <td>0.878077</td>\n",
       "    </tr>\n",
       "    <tr>\n",
       "      <th>3453</th>\n",
       "      <td>15873</td>\n",
       "      <td>I Waiting For You Last Summer -- Endless</td>\n",
       "      <td>0.877778</td>\n",
       "    </tr>\n",
       "    <tr>\n",
       "      <th>8268</th>\n",
       "      <td>56666</td>\n",
       "      <td>Rowland S. Howard -- Dead Radio</td>\n",
       "      <td>0.876333</td>\n",
       "    </tr>\n",
       "    <tr>\n",
       "      <th>5613</th>\n",
       "      <td>143419</td>\n",
       "      <td>The Kunts -- Boris Johnson is STILL a Fu</td>\n",
       "      <td>0.875214</td>\n",
       "    </tr>\n",
       "    <tr>\n",
       "      <th>10637</th>\n",
       "      <td>41929</td>\n",
       "      <td>Marianna Rashkovetsky -- No. 1 in D Mino</td>\n",
       "      <td>0.875000</td>\n",
       "    </tr>\n",
       "    <tr>\n",
       "      <th>1993</th>\n",
       "      <td>33311</td>\n",
       "      <td>Bogdan Raczynski -- Untitled</td>\n",
       "      <td>0.874739</td>\n",
       "    </tr>\n",
       "    <tr>\n",
       "      <th>3673</th>\n",
       "      <td>21867</td>\n",
       "      <td>Faust -- Untitled</td>\n",
       "      <td>0.872882</td>\n",
       "    </tr>\n",
       "    <tr>\n",
       "      <th>5020</th>\n",
       "      <td>191637</td>\n",
       "      <td>Bart van Oort, piano (Pleyel 1842) -- No</td>\n",
       "      <td>0.871667</td>\n",
       "    </tr>\n",
       "    <tr>\n",
       "      <th>6261</th>\n",
       "      <td>473</td>\n",
       "      <td>Étant Donnés -- Untitled</td>\n",
       "      <td>0.871357</td>\n",
       "    </tr>\n",
       "  </tbody>\n",
       "</table>\n",
       "</div>"
      ],
      "text/plain": [
       "      song_id                               song_artist     score\n",
       "528      4238  The Moon Lay Hidden Beneath a Cloud -- U  0.917605\n",
       "3415    19769  I Waiting For You Last Summer -- Nevermo  0.908833\n",
       "2760    19771  I Waiting For You Last Summer -- And not  0.899750\n",
       "612      4239                Der Blutharsch -- Untitled  0.898500\n",
       "856       452              William Basinski -- Untitled  0.898294\n",
       "2568    15877    I Waiting For You Last Summer -- Sleep  0.897500\n",
       "5661     9358              Avril Lavigne -- Hello Kitty  0.893857\n",
       "3211      687                         Teebs -- Untitled  0.893667\n",
       "3178    15876  I Waiting For You Last Summer -- Event h  0.887889\n",
       "1669     1301                         Gas -- [untitled]  0.887000\n",
       "3605    15874  I Waiting For You Last Summer -- Medley   0.885000\n",
       "3412    15879       I Waiting For You Last Summer -- Gu  0.885000\n",
       "6398   208923  Franz Schubert Quartet -- Mozart: String  0.884231\n",
       "8165    28314                Amenra -- A Solitary Reign  0.879833\n",
       "11247    5850                   Taylor Swift -- Crazier  0.879364\n",
       "10239    1559                   The Author -- The Title  0.878818\n",
       "7315    49891  Hal Leonard -- Rock/Blues Rhythm - Even   0.878077\n",
       "3453    15873  I Waiting For You Last Summer -- Endless  0.877778\n",
       "8268    56666           Rowland S. Howard -- Dead Radio  0.876333\n",
       "5613   143419  The Kunts -- Boris Johnson is STILL a Fu  0.875214\n",
       "10637   41929  Marianna Rashkovetsky -- No. 1 in D Mino  0.875000\n",
       "1993    33311              Bogdan Raczynski -- Untitled  0.874739\n",
       "3673    21867                         Faust -- Untitled  0.872882\n",
       "5020   191637  Bart van Oort, piano (Pleyel 1842) -- No  0.871667\n",
       "6261      473                  Étant Donnés -- Untitled  0.871357"
      ]
     },
     "execution_count": 56,
     "metadata": {},
     "output_type": "execute_result"
    }
   ],
   "source": [
    "wr.sort_values(by='score', ascending=False).head(25)"
   ]
  },
  {
   "cell_type": "code",
   "execution_count": 60,
   "id": "99113cbc",
   "metadata": {},
   "outputs": [
    {
     "data": {
      "text/plain": [
       "Text(0.5, 1.0, 'Popular Songs')"
      ]
     },
     "execution_count": 60,
     "metadata": {},
     "output_type": "execute_result"
    },
    {
     "data": {
      "image/png": "[encoded data removed]",
      "text/plain": [
       "<Figure size 864x288 with 1 Axes>"
      ]
     },
     "metadata": {
      "needs_background": "light"
     },
     "output_type": "display_data"
    }
   ],
   "source": [
    "pop = wr.sort_values(by='score', ascending=False)\n",
    "import matplotlib.pyplot as plt\n",
    "plt.figure(figsize=(12,4))\n",
    "\n",
    "plt.barh(pop['song_artist'].head(6), pop['score'].head(6), align='center')\n",
    "plt.gca().invert_yaxis()\n",
    "plt.xlabel(\"Score\")\n",
    "plt.title(\"Popular Songs\")"
   ]
  },
  {
   "cell_type": "markdown",
   "id": "8e927334",
   "metadata": {},
   "source": [
    "### Таким образом мы нашли Топ самых популярных песен, которые можно рекомендовать независимо от предпочтений новых пользователей"
   ]
  },
  {
   "cell_type": "markdown",
   "id": "d0369ab6",
   "metadata": {},
   "source": [
    "#### Часть 2. Поиск похожих артистов по оценкам пользователей через нахождение корреляций."
   ]
  },
  {
   "cell_type": "markdown",
   "id": "cd396fe3",
   "metadata": {},
   "source": [
    "##### Загрузим ранее подготовленный фрейм user x artist"
   ]
  },
  {
   "cell_type": "code",
   "execution_count": 75,
   "id": "c7ba86da",
   "metadata": {},
   "outputs": [],
   "source": [
    "pa = pd.read_csv('pivot_artist.csv')"
   ]
  },
  {
   "cell_type": "code",
   "execution_count": 68,
   "id": "9f34a9d7",
   "metadata": {},
   "outputs": [
    {
     "data": {
      "text/html": [
       "<div>\n",
       "<style scoped>\n",
       "    .dataframe tbody tr th:only-of-type {\n",
       "        vertical-align: middle;\n",
       "    }\n",
       "\n",
       "    .dataframe tbody tr th {\n",
       "        vertical-align: top;\n",
       "    }\n",
       "\n",
       "    .dataframe thead th {\n",
       "        text-align: right;\n",
       "    }\n",
       "</style>\n",
       "<table border=\"1\" class=\"dataframe\">\n",
       "  <thead>\n",
       "    <tr style=\"text-align: right;\">\n",
       "      <th></th>\n",
       "      <th>artist</th>\n",
       "      <th>artist_id</th>\n",
       "    </tr>\n",
       "  </thead>\n",
       "  <tbody>\n",
       "    <tr>\n",
       "      <th>0</th>\n",
       "      <td>Stackridge</td>\n",
       "      <td>0</td>\n",
       "    </tr>\n",
       "    <tr>\n",
       "      <th>1</th>\n",
       "      <td>Sparks</td>\n",
       "      <td>1</td>\n",
       "    </tr>\n",
       "    <tr>\n",
       "      <th>2</th>\n",
       "      <td>That Fucking Tank</td>\n",
       "      <td>2</td>\n",
       "    </tr>\n",
       "    <tr>\n",
       "      <th>3</th>\n",
       "      <td>Porcupine Tree</td>\n",
       "      <td>3</td>\n",
       "    </tr>\n",
       "    <tr>\n",
       "      <th>4</th>\n",
       "      <td>Wild Beasts</td>\n",
       "      <td>4</td>\n",
       "    </tr>\n",
       "    <tr>\n",
       "      <th>...</th>\n",
       "      <td>...</td>\n",
       "      <td>...</td>\n",
       "    </tr>\n",
       "    <tr>\n",
       "      <th>62096</th>\n",
       "      <td>ליהי עטר</td>\n",
       "      <td>62096</td>\n",
       "    </tr>\n",
       "    <tr>\n",
       "      <th>62097</th>\n",
       "      <td>Ôëŕézzzŕ</td>\n",
       "      <td>62097</td>\n",
       "    </tr>\n",
       "    <tr>\n",
       "      <th>62098</th>\n",
       "      <td>Kate Nash/Lethal Bizzle</td>\n",
       "      <td>62098</td>\n",
       "    </tr>\n",
       "    <tr>\n",
       "      <th>62099</th>\n",
       "      <td>KaaK</td>\n",
       "      <td>62099</td>\n",
       "    </tr>\n",
       "    <tr>\n",
       "      <th>62100</th>\n",
       "      <td>Easy</td>\n",
       "      <td>62100</td>\n",
       "    </tr>\n",
       "  </tbody>\n",
       "</table>\n",
       "<p>62101 rows × 2 columns</p>\n",
       "</div>"
      ],
      "text/plain": [
       "                        artist  artist_id\n",
       "0                   Stackridge          0\n",
       "1                       Sparks          1\n",
       "2            That Fucking Tank          2\n",
       "3               Porcupine Tree          3\n",
       "4                  Wild Beasts          4\n",
       "...                        ...        ...\n",
       "62096                 ליהי עטר      62096\n",
       "62097                 Ôëŕézzzŕ      62097\n",
       "62098  Kate Nash/Lethal Bizzle      62098\n",
       "62099                     KaaK      62099\n",
       "62100                     Easy      62100\n",
       "\n",
       "[62101 rows x 2 columns]"
      ]
     },
     "execution_count": 68,
     "metadata": {},
     "output_type": "execute_result"
    }
   ],
   "source": [
    "aname = pd.read_csv('a_index.csv') # загрузим справочник артистов\n",
    "aname"
   ]
  },
  {
   "cell_type": "code",
   "execution_count": 123,
   "id": "f618ddee",
   "metadata": {
    "scrolled": true
   },
   "outputs": [
    {
     "data": {
      "text/html": [
       "<div>\n",
       "<style scoped>\n",
       "    .dataframe tbody tr th:only-of-type {\n",
       "        vertical-align: middle;\n",
       "    }\n",
       "\n",
       "    .dataframe tbody tr th {\n",
       "        vertical-align: top;\n",
       "    }\n",
       "\n",
       "    .dataframe thead th {\n",
       "        text-align: right;\n",
       "    }\n",
       "</style>\n",
       "<table border=\"1\" class=\"dataframe\">\n",
       "  <thead>\n",
       "    <tr style=\"text-align: right;\">\n",
       "      <th></th>\n",
       "      <th>artist</th>\n",
       "      <th>tags</th>\n",
       "    </tr>\n",
       "  </thead>\n",
       "  <tbody>\n",
       "    <tr>\n",
       "      <th>0</th>\n",
       "      <td>Radiohead</td>\n",
       "      <td>alternative, alternative rock, rock, indie, el...</td>\n",
       "    </tr>\n",
       "    <tr>\n",
       "      <th>1</th>\n",
       "      <td>Boards of Canada</td>\n",
       "      <td>ambient, electronic, idm, electronica, chillout</td>\n",
       "    </tr>\n",
       "    <tr>\n",
       "      <th>2</th>\n",
       "      <td>Interpol</td>\n",
       "      <td>indie, indie rock, post-punk, seen live, alter...</td>\n",
       "    </tr>\n",
       "    <tr>\n",
       "      <th>3</th>\n",
       "      <td>The National</td>\n",
       "      <td>seen live, indie rock, indie, alternative, rock</td>\n",
       "    </tr>\n",
       "    <tr>\n",
       "      <th>4</th>\n",
       "      <td>Burial</td>\n",
       "      <td>dubstep, electronic, ambient, experimental, el...</td>\n",
       "    </tr>\n",
       "    <tr>\n",
       "      <th>...</th>\n",
       "      <td>...</td>\n",
       "      <td>...</td>\n",
       "    </tr>\n",
       "    <tr>\n",
       "      <th>11221</th>\n",
       "      <td>Zurdok</td>\n",
       "      <td>rock, rock mexicano, alternative, alternative ...</td>\n",
       "    </tr>\n",
       "    <tr>\n",
       "      <th>11222</th>\n",
       "      <td>Jane Siberry</td>\n",
       "      <td>female vocalists, Canadian, singer-songwriter,...</td>\n",
       "    </tr>\n",
       "    <tr>\n",
       "      <th>11223</th>\n",
       "      <td>Quimby</td>\n",
       "      <td>hungarian, alternative, seen live, alternative...</td>\n",
       "    </tr>\n",
       "    <tr>\n",
       "      <th>11224</th>\n",
       "      <td>Attic Abasement</td>\n",
       "      <td>Lo-Fi, hockey-core, folk, rare sad boy, emo</td>\n",
       "    </tr>\n",
       "    <tr>\n",
       "      <th>11225</th>\n",
       "      <td>Beatnik Termites</td>\n",
       "      <td>pop punk, punk, Surf, power pop, punk rock</td>\n",
       "    </tr>\n",
       "  </tbody>\n",
       "</table>\n",
       "<p>11226 rows × 2 columns</p>\n",
       "</div>"
      ],
      "text/plain": [
       "                 artist                                               tags\n",
       "0             Radiohead  alternative, alternative rock, rock, indie, el...\n",
       "1      Boards of Canada    ambient, electronic, idm, electronica, chillout\n",
       "2              Interpol  indie, indie rock, post-punk, seen live, alter...\n",
       "3          The National    seen live, indie rock, indie, alternative, rock\n",
       "4                Burial  dubstep, electronic, ambient, experimental, el...\n",
       "...                 ...                                                ...\n",
       "11221            Zurdok  rock, rock mexicano, alternative, alternative ...\n",
       "11222      Jane Siberry  female vocalists, Canadian, singer-songwriter,...\n",
       "11223            Quimby  hungarian, alternative, seen live, alternative...\n",
       "11224   Attic Abasement        Lo-Fi, hockey-core, folk, rare sad boy, emo\n",
       "11225  Beatnik Termites         pop punk, punk, Surf, power pop, punk rock\n",
       "\n",
       "[11226 rows x 2 columns]"
      ]
     },
     "execution_count": 123,
     "metadata": {},
     "output_type": "execute_result"
    }
   ],
   "source": [
    "tags = pd.read_csv('tag.csv')\n",
    "tags"
   ]
  },
  {
   "cell_type": "code",
   "execution_count": 379,
   "id": "ae447abe",
   "metadata": {},
   "outputs": [],
   "source": [
    "def find_correlated_artists(df, tags, artist_num, aname):\n",
    "    try:\n",
    "        tags_art = tags.loc[tags['artist'] == aname.to_dict()['artist'][int(artist_num)]]['tags'].values.item().replace(' ','').split(',')\n",
    "    except ValueError:\n",
    "        print('There are no tags for artist. Skip')\n",
    "        return [], 0\n",
    "    print('Find correlation for group:', aname.to_dict()['artist'][int(artist_num)])\n",
    "    print('Tags for group:', tags_art)\n",
    "    resdf = pd.DataFrame(columns = ['artist_id', 'artist_name', 'correlation', 'tags'])\n",
    "    corr = dict(df.corrwith(df[str(artist_num)]).dropna().sort_values(ascending=False).head(10))\n",
    "    cnt = 0\n",
    "    for k in corr:\n",
    "        cnt += 1\n",
    "        artist = aname.to_dict()['artist'][int(k)]\n",
    "        tgs = list(tags.loc[tags['artist'] == artist]['tags'].values)\n",
    "        if len(tgs) > 0:\n",
    "            resdf.loc[len(resdf)] = [k, artist, corr[k], ''.join(tags.loc[tags['artist'] == artist]['tags'].values)]\n",
    "        if cnt > 5:\n",
    "            break\n",
    "    return tags_art, resdf"
   ]
  },
  {
   "cell_type": "code",
   "execution_count": 380,
   "id": "79d737c4",
   "metadata": {},
   "outputs": [],
   "source": [
    "def evaluate_precision(tags_inc, tags_eval):\n",
    "    rstring = tags_eval.replace(',','').replace(' ', '')\n",
    "    for tag in tags_inc:\n",
    "        if rstring.find(tag) > -1:\n",
    "            return 1\n",
    "    return 0"
   ]
  },
  {
   "cell_type": "code",
   "execution_count": 381,
   "id": "44181d5d",
   "metadata": {},
   "outputs": [],
   "source": [
    "def calc_prec_for_group(df, tags, artist_num, aname):\n",
    "    tags_inc, rdf = find_correlated_artists(df, tags, artist_num, aname)\n",
    "    if len(tags_inc) == 0 or len(rdf) == 0:\n",
    "        return -1\n",
    "    prec_list = []\n",
    "    for index, row in rdf.iterrows():\n",
    "        prec_list.append(evaluate_precision(list(tags_inc), row['tags']))\n",
    "    return round(sum(prec_list)/len(prec_list), 2)"
   ]
  },
  {
   "cell_type": "code",
   "execution_count": 386,
   "id": "43a319b0",
   "metadata": {},
   "outputs": [],
   "source": [
    "def calc_avg_prec_for_sample(df, tags, sample_size, aname):\n",
    "    pool = []\n",
    "    get_index = random.sample(list(tags.artist_id), sample_size)\n",
    "    print('picked indexes:',get_index)\n",
    "    for ind in get_index:\n",
    "        try:\n",
    "            res = calc_prec_for_group(df, tags, ind, aname)\n",
    "            if res > -1:\n",
    "                pool.append(res)\n",
    "        except Exception:\n",
    "            print('Error occured on ind', ind)\n",
    "            continue\n",
    "    prec = round(sum(pool)/len(pool), 2)\n",
    "    print('============================\\n============================')\n",
    "    print('total sample size', len(pool))\n",
    "    print('precision on sample:', prec)"
   ]
  },
  {
   "cell_type": "code",
   "execution_count": null,
   "id": "dae1bf2f",
   "metadata": {},
   "outputs": [],
   "source": [
    "tags = tags.merge(aname, how='inner', left_on='artist', right_on='artist')"
   ]
  },
  {
   "cell_type": "code",
   "execution_count": 368,
   "id": "9ae69a99",
   "metadata": {},
   "outputs": [
    {
     "data": {
      "text/html": [
       "<div>\n",
       "<style scoped>\n",
       "    .dataframe tbody tr th:only-of-type {\n",
       "        vertical-align: middle;\n",
       "    }\n",
       "\n",
       "    .dataframe tbody tr th {\n",
       "        vertical-align: top;\n",
       "    }\n",
       "\n",
       "    .dataframe thead th {\n",
       "        text-align: right;\n",
       "    }\n",
       "</style>\n",
       "<table border=\"1\" class=\"dataframe\">\n",
       "  <thead>\n",
       "    <tr style=\"text-align: right;\">\n",
       "      <th></th>\n",
       "      <th>artist</th>\n",
       "      <th>tags</th>\n",
       "      <th>artist_id</th>\n",
       "    </tr>\n",
       "  </thead>\n",
       "  <tbody>\n",
       "    <tr>\n",
       "      <th>0</th>\n",
       "      <td>Radiohead</td>\n",
       "      <td>alternative, alternative rock, rock, indie, el...</td>\n",
       "      <td>336</td>\n",
       "    </tr>\n",
       "    <tr>\n",
       "      <th>1</th>\n",
       "      <td>Boards of Canada</td>\n",
       "      <td>ambient, electronic, idm, electronica, chillout</td>\n",
       "      <td>70</td>\n",
       "    </tr>\n",
       "    <tr>\n",
       "      <th>2</th>\n",
       "      <td>Interpol</td>\n",
       "      <td>indie, indie rock, post-punk, seen live, alter...</td>\n",
       "      <td>56</td>\n",
       "    </tr>\n",
       "    <tr>\n",
       "      <th>3</th>\n",
       "      <td>The National</td>\n",
       "      <td>seen live, indie rock, indie, alternative, rock</td>\n",
       "      <td>918</td>\n",
       "    </tr>\n",
       "    <tr>\n",
       "      <th>4</th>\n",
       "      <td>Burial</td>\n",
       "      <td>dubstep, electronic, ambient, experimental, el...</td>\n",
       "      <td>344</td>\n",
       "    </tr>\n",
       "    <tr>\n",
       "      <th>...</th>\n",
       "      <td>...</td>\n",
       "      <td>...</td>\n",
       "      <td>...</td>\n",
       "    </tr>\n",
       "    <tr>\n",
       "      <th>11168</th>\n",
       "      <td>Zurdok</td>\n",
       "      <td>rock, rock mexicano, alternative, alternative ...</td>\n",
       "      <td>3392</td>\n",
       "    </tr>\n",
       "    <tr>\n",
       "      <th>11169</th>\n",
       "      <td>Jane Siberry</td>\n",
       "      <td>female vocalists, Canadian, singer-songwriter,...</td>\n",
       "      <td>13808</td>\n",
       "    </tr>\n",
       "    <tr>\n",
       "      <th>11170</th>\n",
       "      <td>Quimby</td>\n",
       "      <td>hungarian, alternative, seen live, alternative...</td>\n",
       "      <td>36606</td>\n",
       "    </tr>\n",
       "    <tr>\n",
       "      <th>11171</th>\n",
       "      <td>Attic Abasement</td>\n",
       "      <td>Lo-Fi, hockey-core, folk, rare sad boy, emo</td>\n",
       "      <td>9937</td>\n",
       "    </tr>\n",
       "    <tr>\n",
       "      <th>11172</th>\n",
       "      <td>Beatnik Termites</td>\n",
       "      <td>pop punk, punk, Surf, power pop, punk rock</td>\n",
       "      <td>12569</td>\n",
       "    </tr>\n",
       "  </tbody>\n",
       "</table>\n",
       "<p>11173 rows × 3 columns</p>\n",
       "</div>"
      ],
      "text/plain": [
       "                 artist                                               tags  \\\n",
       "0             Radiohead  alternative, alternative rock, rock, indie, el...   \n",
       "1      Boards of Canada    ambient, electronic, idm, electronica, chillout   \n",
       "2              Interpol  indie, indie rock, post-punk, seen live, alter...   \n",
       "3          The National    seen live, indie rock, indie, alternative, rock   \n",
       "4                Burial  dubstep, electronic, ambient, experimental, el...   \n",
       "...                 ...                                                ...   \n",
       "11168            Zurdok  rock, rock mexicano, alternative, alternative ...   \n",
       "11169      Jane Siberry  female vocalists, Canadian, singer-songwriter,...   \n",
       "11170            Quimby  hungarian, alternative, seen live, alternative...   \n",
       "11171   Attic Abasement        Lo-Fi, hockey-core, folk, rare sad boy, emo   \n",
       "11172  Beatnik Termites         pop punk, punk, Surf, power pop, punk rock   \n",
       "\n",
       "       artist_id  \n",
       "0            336  \n",
       "1             70  \n",
       "2             56  \n",
       "3            918  \n",
       "4            344  \n",
       "...          ...  \n",
       "11168       3392  \n",
       "11169      13808  \n",
       "11170      36606  \n",
       "11171       9937  \n",
       "11172      12569  \n",
       "\n",
       "[11173 rows x 3 columns]"
      ]
     },
     "execution_count": 368,
     "metadata": {},
     "output_type": "execute_result"
    }
   ],
   "source": [
    "tags"
   ]
  },
  {
   "cell_type": "code",
   "execution_count": 387,
   "id": "86585a8d",
   "metadata": {
    "scrolled": false
   },
   "outputs": [
    {
     "name": "stdout",
     "output_type": "stream",
     "text": [
      "picked indexes: [57955, 11450, 10288, 2743, 25081, 9544, 27630, 6915, 46943, 2311, 14378, 12140, 20483, 3718, 1037, 3240, 52637, 47467, 930, 11687]\n",
      "Find correlation for group: Orchestre Al BRIHI - Hadj Abdelkrim RAIS\n",
      "Tags for group: ['Marruecos', 'nuba']\n",
      "Error occured on ind 57955\n",
      "Find correlation for group: Pegasus Bridge\n",
      "Tags for group: ['indie', 'indierock', 'powerpop', 'rock', 'british']\n",
      "Find correlation for group: The Seeds\n",
      "Tags for group: ['GarageRock', '60s', 'PsychedelicRock', 'psychedelic', 'garage']\n",
      "Find correlation for group: Jackson Browne\n",
      "Tags for group: ['singer-songwriter', 'classicrock', 'rock', 'folk', 'softrock']\n",
      "Find correlation for group: Chris Tomlin\n",
      "Tags for group: ['christian', 'worship', 'contemporarychristian', 'christianrock', 'praiseandworship']\n",
      "Find correlation for group: Brian Tyler\n",
      "Tags for group: ['Soundtrack', 'composer', 'instrumental', 'score', 'composers']\n",
      "Find correlation for group: Triángulo de Amor Bizarro\n",
      "Tags for group: ['shoegaze', 'indie', 'indierock', 'seenlive', 'noisepop']\n",
      "Find correlation for group: Band of Skulls\n",
      "Tags for group: ['rock', 'indie', 'alternative', 'british', 'blues']\n",
      "Find correlation for group: Desmond Dennis\n",
      "Tags for group: ['soul', 'rnb']\n",
      "Error occured on ind 46943\n",
      "Find correlation for group: Oval\n",
      "Tags for group: ['glitch', 'electronic', 'ambient', 'experimental', 'electronica']\n",
      "Find correlation for group: Islands\n",
      "Tags for group: ['seenlive', 'indie', 'indiepop', 'Canadian', 'indierock']\n",
      "Find correlation for group: Patty Griffin\n",
      "Tags for group: ['folk', 'singer-songwriter', 'femalevocalists', 'Alt-country', 'americana']\n",
      "Find correlation for group: Ammoncontact\n",
      "Tags for group: ['ninjatune', 'electronic', 'Hip-Hop', 'experimental', 'hiphop']\n",
      "Find correlation for group: The Gerogerigegege\n",
      "Tags for group: ['noise', 'experimental', 'noisecore', 'artisover', 'ultrashitband']\n",
      "Find correlation for group: The Walkmen\n",
      "Tags for group: ['seenlive', 'indierock', 'indie', 'rock', 'alternative']\n",
      "Find correlation for group: Mindless Self Indulgence\n",
      "Tags for group: ['industrial', 'industrialjunglepussypunk', 'punk', 'electronic', 'alternative']\n",
      "Find correlation for group: A Fight You Can't Win\n",
      "Tags for group: ['rock', 'Grunge', 'scotland', 'under2000listeners', 'noise']\n",
      "Error occured on ind 52637\n",
      "Find correlation for group: Mala Rodríguez\n",
      "Tags for group: ['Hip-Hop', 'spanish', 'hiphop', 'rap', 'femalevocalists']\n",
      "Find correlation for group: Jai Paul\n",
      "Tags for group: ['experimental', 'electronic', 'wonky', 'electronica', 'hiphop']\n",
      "Find correlation for group: Big Black Delta\n",
      "Tags for group: ['electronic', 'indie', 'industrial', 'noise', 'ambient']\n",
      "============================\n",
      "============================\n",
      "total sample size 12\n",
      "precision on sample: 0.85\n"
     ]
    }
   ],
   "source": [
    "calc_avg_prec_for_sample(pa, tags, 20, aname)"
   ]
  },
  {
   "cell_type": "markdown",
   "id": "f6d78c2a",
   "metadata": {},
   "source": [
    "#### Точность определялась следующим образом :\n",
    "##### Если один из жанровых тегов артиста совпадает с одним из жанров похожих артистов, ставится как точное определение \"похожести\". Для каждого артиста искали min(5, факт_найденных) похожих артистов и с каждым сравнивались жанры. Точность усреднялась по артисту и далее по сэмплу"
   ]
  },
  {
   "cell_type": "code",
   "execution_count": null,
   "id": "d9bea7dd",
   "metadata": {},
   "outputs": [],
   "source": []
  }
 ],
 "metadata": {
  "kernelspec": {
   "display_name": "Python 3",
   "language": "python",
   "name": "python3"
  },
  "language_info": {
   "codemirror_mode": {
    "name": "ipython",
    "version": 3
   },
   "file_extension": ".py",
   "mimetype": "text/x-python",
   "name": "python",
   "nbconvert_exporter": "python",
   "pygments_lexer": "ipython3",
   "version": "3.8.8"
  }
 },
 "nbformat": 4,
 "nbformat_minor": 5
}
